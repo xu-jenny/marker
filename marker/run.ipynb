{
 "cells": [
  {
   "cell_type": "code",
   "execution_count": 1,
   "metadata": {},
   "outputs": [
    {
     "name": "stdout",
     "output_type": "stream",
     "text": [
      "Loaded detection model vikp/surya_det3 on device cuda with dtype torch.float16\n",
      "Loaded detection model vikp/surya_layout3 on device cuda with dtype torch.float16\n",
      "Loaded reading order model vikp/surya_order on device cuda with dtype torch.float16\n",
      "Loaded recognition model vikp/surya_rec2 on device cuda with dtype torch.float16\n",
      "Loaded texify model to cuda with torch.float16 dtype\n",
      "Loaded recognition model vikp/surya_tablerec on device cuda with dtype torch.float16\n"
     ]
    }
   ],
   "source": [
    "from models import load_all_models\n",
    "model_lst = load_all_models()"
   ]
  },
  {
   "cell_type": "code",
   "execution_count": 2,
   "metadata": {},
   "outputs": [
    {
     "name": "stderr",
     "output_type": "stream",
     "text": [
      "Detecting bboxes: 100%|██████████| 10/10 [00:02<00:00,  3.45it/s]\n",
      "Recognizing Text: 100%|██████████| 37/37 [00:09<00:00,  3.79it/s]\n",
      "Detecting bboxes: 100%|██████████| 7/7 [00:08<00:00,  1.28s/it]\n",
      "Finding reading order: 100%|██████████| 7/7 [00:02<00:00,  3.06it/s]\n",
      "Detecting bboxes: 100%|██████████| 1/1 [00:02<00:00,  2.43s/it]\n",
      "Recognizing Text:   0%|          | 0/1 [00:01<?, ?it/s]\n"
     ]
    },
    {
     "ename": "OutOfMemoryError",
     "evalue": "CUDA out of memory. Tried to allocate 3.51 GiB. GPU 0 has a total capacity of 23.55 GiB of which 1.46 GiB is free. Process 10966 has 1.04 GiB memory in use. Process 52004 has 5.96 GiB memory in use. Including non-PyTorch memory, this process has 15.02 GiB memory in use. Of the allocated memory 12.53 GiB is allocated by PyTorch, and 2.03 GiB is reserved by PyTorch but unallocated. If reserved but unallocated memory is large try setting PYTORCH_CUDA_ALLOC_CONF=expandable_segments:True to avoid fragmentation.  See documentation for Memory Management  (https://pytorch.org/docs/stable/notes/cuda.html#environment-variables)",
     "output_type": "error",
     "traceback": [
      "\u001b[0;31m---------------------------------------------------------------------------\u001b[0m",
      "\u001b[0;31mOutOfMemoryError\u001b[0m                          Traceback (most recent call last)",
      "Cell \u001b[0;32mIn[2], line 6\u001b[0m\n\u001b[1;32m      3\u001b[0m fpath \u001b[38;5;241m=\u001b[39m \u001b[38;5;124m\"\u001b[39m\u001b[38;5;124m/home/jenny/Downloads/Archive/wilders_grove_yard_waste/WI0500447/WI0500447_Correspondence_20190529.pdf\u001b[39m\u001b[38;5;124m\"\u001b[39m\n\u001b[1;32m      4\u001b[0m \u001b[38;5;66;03m# fpath = \"/home/jenny/Downloads/Archive 2/wilders_grove_yard_waste/WI0500447/WI0500447_Staff Report_20200911.pdf\"\u001b[39;00m\n\u001b[1;32m      5\u001b[0m \u001b[38;5;66;03m# fpath = \"/home/jenny/Downloads/01005_Eakes Drycleaners_BF Site Assmt.pdf\"\u001b[39;00m\n\u001b[0;32m----> 6\u001b[0m full_text, doc_images, out_meta, pages, text_blocks \u001b[38;5;241m=\u001b[39m \u001b[43mconvert_single_pdf\u001b[49m\u001b[43m(\u001b[49m\u001b[43mfpath\u001b[49m\u001b[43m,\u001b[49m\u001b[43m \u001b[49m\u001b[43mmodel_lst\u001b[49m\u001b[43m)\u001b[49m\n",
      "File \u001b[0;32m~/Desktop/projects/source_codes/marker/marker/convert.py:127\u001b[0m, in \u001b[0;36mconvert_single_pdf\u001b[0;34m(fname, model_lst, max_pages, start_page, metadata, langs, batch_multiplier, ocr_all_pages)\u001b[0m\n\u001b[1;32m    124\u001b[0m indent_blocks(pages)\n\u001b[1;32m    126\u001b[0m \u001b[38;5;66;03m# Fix table blocks\u001b[39;00m\n\u001b[0;32m--> 127\u001b[0m table_count \u001b[38;5;241m=\u001b[39m \u001b[43mformat_tables\u001b[49m\u001b[43m(\u001b[49m\u001b[43mpages\u001b[49m\u001b[43m,\u001b[49m\u001b[43m \u001b[49m\u001b[43mdoc\u001b[49m\u001b[43m,\u001b[49m\u001b[43m \u001b[49m\u001b[43mfname\u001b[49m\u001b[43m,\u001b[49m\u001b[43m \u001b[49m\u001b[43mdetection_model\u001b[49m\u001b[43m,\u001b[49m\u001b[43m \u001b[49m\u001b[43mtable_rec_model\u001b[49m\u001b[43m,\u001b[49m\u001b[43m \u001b[49m\u001b[43mocr_model\u001b[49m\u001b[43m)\u001b[49m\n\u001b[1;32m    128\u001b[0m out_meta[\u001b[38;5;124m\"\u001b[39m\u001b[38;5;124mblock_stats\u001b[39m\u001b[38;5;124m\"\u001b[39m][\u001b[38;5;124m\"\u001b[39m\u001b[38;5;124mtable\u001b[39m\u001b[38;5;124m\"\u001b[39m] \u001b[38;5;241m=\u001b[39m table_count\n\u001b[1;32m    130\u001b[0m \u001b[38;5;28;01mfor\u001b[39;00m page \u001b[38;5;129;01min\u001b[39;00m pages:\n",
      "File \u001b[0;32m~/Desktop/projects/source_codes/marker/marker/tables/table.py:90\u001b[0m, in \u001b[0;36mformat_tables\u001b[0;34m(pages, doc, fname, detection_model, table_rec_model, ocr_model)\u001b[0m\n\u001b[1;32m     87\u001b[0m tqdm\u001b[38;5;241m.\u001b[39mdisable \u001b[38;5;241m=\u001b[39m \u001b[38;5;28;01mFalse\u001b[39;00m\n\u001b[1;32m     89\u001b[0m \u001b[38;5;66;03m# This will redo OCR if OCR is forced, since we need to redetect bounding boxes, etc.\u001b[39;00m\n\u001b[0;32m---> 90\u001b[0m table_rec \u001b[38;5;241m=\u001b[39m \u001b[43mrecognize_tables\u001b[49m\u001b[43m(\u001b[49m\u001b[43mtable_imgs\u001b[49m\u001b[43m,\u001b[49m\u001b[43m \u001b[49m\u001b[43mcells\u001b[49m\u001b[43m,\u001b[49m\u001b[43m \u001b[49m\u001b[43mneeds_ocr\u001b[49m\u001b[43m,\u001b[49m\u001b[43m \u001b[49m\u001b[43mrec_models\u001b[49m\u001b[43m)\u001b[49m\n\u001b[1;32m     91\u001b[0m cells \u001b[38;5;241m=\u001b[39m [assign_rows_columns(tr, im_size) \u001b[38;5;28;01mfor\u001b[39;00m tr, im_size \u001b[38;5;129;01min\u001b[39;00m \u001b[38;5;28mzip\u001b[39m(table_rec, img_sizes)]\n\u001b[1;32m     92\u001b[0m table_md \u001b[38;5;241m=\u001b[39m [formatter(\u001b[38;5;124m\"\u001b[39m\u001b[38;5;124mmarkdown\u001b[39m\u001b[38;5;124m\"\u001b[39m, cell)[\u001b[38;5;241m0\u001b[39m] \u001b[38;5;28;01mfor\u001b[39;00m cell \u001b[38;5;129;01min\u001b[39;00m cells]\n",
      "File \u001b[0;32m~/Desktop/projects/source_codes/marker/.venv/lib/python3.10/site-packages/tabled/inference/recognition.py:47\u001b[0m, in \u001b[0;36mrecognize_tables\u001b[0;34m(table_imgs, table_cells, needs_ocr, models)\u001b[0m\n\u001b[1;32m     44\u001b[0m ocr_cells \u001b[38;5;241m=\u001b[39m [[c[\u001b[38;5;124m\"\u001b[39m\u001b[38;5;124mbbox\u001b[39m\u001b[38;5;124m\"\u001b[39m] \u001b[38;5;28;01mfor\u001b[39;00m c \u001b[38;5;129;01min\u001b[39;00m cells] \u001b[38;5;28;01mfor\u001b[39;00m cells, needs \u001b[38;5;129;01min\u001b[39;00m \u001b[38;5;28mzip\u001b[39m(table_cells, needs_ocr) \u001b[38;5;28;01mif\u001b[39;00m needs]\n\u001b[1;32m     45\u001b[0m ocr_langs \u001b[38;5;241m=\u001b[39m [\u001b[38;5;28;01mNone\u001b[39;00m] \u001b[38;5;241m*\u001b[39m \u001b[38;5;28mlen\u001b[39m(ocr_images)\n\u001b[0;32m---> 47\u001b[0m ocr_predictions \u001b[38;5;241m=\u001b[39m \u001b[43mrun_recognition\u001b[49m\u001b[43m(\u001b[49m\u001b[43mocr_images\u001b[49m\u001b[43m,\u001b[49m\u001b[43m \u001b[49m\u001b[43mocr_langs\u001b[49m\u001b[43m,\u001b[49m\u001b[43m \u001b[49m\u001b[43mocr_model\u001b[49m\u001b[43m,\u001b[49m\u001b[43m \u001b[49m\u001b[43mocr_processor\u001b[49m\u001b[43m,\u001b[49m\u001b[43m \u001b[49m\u001b[43mbboxes\u001b[49m\u001b[38;5;241;43m=\u001b[39;49m\u001b[43mocr_cells\u001b[49m\u001b[43m)\u001b[49m\n\u001b[1;32m     49\u001b[0m \u001b[38;5;66;03m# Assign text to correct spot\u001b[39;00m\n\u001b[1;32m     50\u001b[0m \u001b[38;5;28;01mfor\u001b[39;00m orig_idx, ocr_pred \u001b[38;5;129;01min\u001b[39;00m \u001b[38;5;28mzip\u001b[39m(needs_ocr_idx, ocr_predictions):\n",
      "File \u001b[0;32m~/Desktop/projects/source_codes/marker/.venv/lib/python3.10/site-packages/surya/ocr.py:31\u001b[0m, in \u001b[0;36mrun_recognition\u001b[0;34m(images, langs, rec_model, rec_processor, bboxes, polygons, batch_size)\u001b[0m\n\u001b[1;32m     28\u001b[0m     all_slices\u001b[38;5;241m.\u001b[39mextend(slices)\n\u001b[1;32m     29\u001b[0m     all_langs\u001b[38;5;241m.\u001b[39mextend([deepcopy(lang)] \u001b[38;5;241m*\u001b[39m \u001b[38;5;28mlen\u001b[39m(slices))\n\u001b[0;32m---> 31\u001b[0m rec_predictions, _ \u001b[38;5;241m=\u001b[39m \u001b[43mbatch_recognition\u001b[49m\u001b[43m(\u001b[49m\u001b[43mall_slices\u001b[49m\u001b[43m,\u001b[49m\u001b[43m \u001b[49m\u001b[43mall_langs\u001b[49m\u001b[43m,\u001b[49m\u001b[43m \u001b[49m\u001b[43mrec_model\u001b[49m\u001b[43m,\u001b[49m\u001b[43m \u001b[49m\u001b[43mrec_processor\u001b[49m\u001b[43m,\u001b[49m\u001b[43m \u001b[49m\u001b[43mbatch_size\u001b[49m\u001b[38;5;241;43m=\u001b[39;49m\u001b[43mbatch_size\u001b[49m\u001b[43m)\u001b[49m\n\u001b[1;32m     33\u001b[0m predictions_by_image \u001b[38;5;241m=\u001b[39m []\n\u001b[1;32m     34\u001b[0m slice_start \u001b[38;5;241m=\u001b[39m \u001b[38;5;241m0\u001b[39m\n",
      "File \u001b[0;32m~/Desktop/projects/source_codes/marker/.venv/lib/python3.10/site-packages/surya/recognition.py:94\u001b[0m, in \u001b[0;36mbatch_recognition\u001b[0;34m(images, languages, model, processor, batch_size)\u001b[0m\n\u001b[1;32m     92\u001b[0m \u001b[38;5;28;01mfor\u001b[39;00m z \u001b[38;5;129;01min\u001b[39;00m \u001b[38;5;28mrange\u001b[39m(\u001b[38;5;241m0\u001b[39m, batch_pixel_values\u001b[38;5;241m.\u001b[39mshape[\u001b[38;5;241m0\u001b[39m], encoder_batch_size):\n\u001b[1;32m     93\u001b[0m     encoder_pixel_values \u001b[38;5;241m=\u001b[39m batch_pixel_values[z:\u001b[38;5;28mmin\u001b[39m(z \u001b[38;5;241m+\u001b[39m encoder_batch_size, batch_pixel_values\u001b[38;5;241m.\u001b[39mshape[\u001b[38;5;241m0\u001b[39m])]\n\u001b[0;32m---> 94\u001b[0m     encoder_hidden_states_batch \u001b[38;5;241m=\u001b[39m \u001b[43mmodel\u001b[49m\u001b[38;5;241;43m.\u001b[39;49m\u001b[43mencoder\u001b[49m\u001b[43m(\u001b[49m\u001b[43mpixel_values\u001b[49m\u001b[38;5;241;43m=\u001b[39;49m\u001b[43mencoder_pixel_values\u001b[49m\u001b[43m)\u001b[49m\u001b[38;5;241m.\u001b[39mlast_hidden_state\n\u001b[1;32m     95\u001b[0m     \u001b[38;5;28;01mif\u001b[39;00m encoder_hidden_states \u001b[38;5;129;01mis\u001b[39;00m \u001b[38;5;28;01mNone\u001b[39;00m:\n\u001b[1;32m     96\u001b[0m         encoder_hidden_states \u001b[38;5;241m=\u001b[39m encoder_hidden_states_batch\n",
      "File \u001b[0;32m~/Desktop/projects/source_codes/marker/.venv/lib/python3.10/site-packages/torch/nn/modules/module.py:1553\u001b[0m, in \u001b[0;36mModule._wrapped_call_impl\u001b[0;34m(self, *args, **kwargs)\u001b[0m\n\u001b[1;32m   1551\u001b[0m     \u001b[38;5;28;01mreturn\u001b[39;00m \u001b[38;5;28mself\u001b[39m\u001b[38;5;241m.\u001b[39m_compiled_call_impl(\u001b[38;5;241m*\u001b[39margs, \u001b[38;5;241m*\u001b[39m\u001b[38;5;241m*\u001b[39mkwargs)  \u001b[38;5;66;03m# type: ignore[misc]\u001b[39;00m\n\u001b[1;32m   1552\u001b[0m \u001b[38;5;28;01melse\u001b[39;00m:\n\u001b[0;32m-> 1553\u001b[0m     \u001b[38;5;28;01mreturn\u001b[39;00m \u001b[38;5;28;43mself\u001b[39;49m\u001b[38;5;241;43m.\u001b[39;49m\u001b[43m_call_impl\u001b[49m\u001b[43m(\u001b[49m\u001b[38;5;241;43m*\u001b[39;49m\u001b[43margs\u001b[49m\u001b[43m,\u001b[49m\u001b[43m \u001b[49m\u001b[38;5;241;43m*\u001b[39;49m\u001b[38;5;241;43m*\u001b[39;49m\u001b[43mkwargs\u001b[49m\u001b[43m)\u001b[49m\n",
      "File \u001b[0;32m~/Desktop/projects/source_codes/marker/.venv/lib/python3.10/site-packages/torch/nn/modules/module.py:1562\u001b[0m, in \u001b[0;36mModule._call_impl\u001b[0;34m(self, *args, **kwargs)\u001b[0m\n\u001b[1;32m   1557\u001b[0m \u001b[38;5;66;03m# If we don't have any hooks, we want to skip the rest of the logic in\u001b[39;00m\n\u001b[1;32m   1558\u001b[0m \u001b[38;5;66;03m# this function, and just call forward.\u001b[39;00m\n\u001b[1;32m   1559\u001b[0m \u001b[38;5;28;01mif\u001b[39;00m \u001b[38;5;129;01mnot\u001b[39;00m (\u001b[38;5;28mself\u001b[39m\u001b[38;5;241m.\u001b[39m_backward_hooks \u001b[38;5;129;01mor\u001b[39;00m \u001b[38;5;28mself\u001b[39m\u001b[38;5;241m.\u001b[39m_backward_pre_hooks \u001b[38;5;129;01mor\u001b[39;00m \u001b[38;5;28mself\u001b[39m\u001b[38;5;241m.\u001b[39m_forward_hooks \u001b[38;5;129;01mor\u001b[39;00m \u001b[38;5;28mself\u001b[39m\u001b[38;5;241m.\u001b[39m_forward_pre_hooks\n\u001b[1;32m   1560\u001b[0m         \u001b[38;5;129;01mor\u001b[39;00m _global_backward_pre_hooks \u001b[38;5;129;01mor\u001b[39;00m _global_backward_hooks\n\u001b[1;32m   1561\u001b[0m         \u001b[38;5;129;01mor\u001b[39;00m _global_forward_hooks \u001b[38;5;129;01mor\u001b[39;00m _global_forward_pre_hooks):\n\u001b[0;32m-> 1562\u001b[0m     \u001b[38;5;28;01mreturn\u001b[39;00m \u001b[43mforward_call\u001b[49m\u001b[43m(\u001b[49m\u001b[38;5;241;43m*\u001b[39;49m\u001b[43margs\u001b[49m\u001b[43m,\u001b[49m\u001b[43m \u001b[49m\u001b[38;5;241;43m*\u001b[39;49m\u001b[38;5;241;43m*\u001b[39;49m\u001b[43mkwargs\u001b[49m\u001b[43m)\u001b[49m\n\u001b[1;32m   1564\u001b[0m \u001b[38;5;28;01mtry\u001b[39;00m:\n\u001b[1;32m   1565\u001b[0m     result \u001b[38;5;241m=\u001b[39m \u001b[38;5;28;01mNone\u001b[39;00m\n",
      "File \u001b[0;32m~/Desktop/projects/source_codes/marker/.venv/lib/python3.10/site-packages/surya/model/recognition/encoder.py:838\u001b[0m, in \u001b[0;36mDonutSwinModel.forward\u001b[0;34m(self, pixel_values, bool_masked_pos, head_mask, output_attentions, output_hidden_states, interpolate_pos_encoding, return_dict)\u001b[0m\n\u001b[1;32m    832\u001b[0m head_mask \u001b[38;5;241m=\u001b[39m \u001b[38;5;28mself\u001b[39m\u001b[38;5;241m.\u001b[39mget_head_mask(head_mask, \u001b[38;5;28mlen\u001b[39m(\u001b[38;5;28mself\u001b[39m\u001b[38;5;241m.\u001b[39mconfig\u001b[38;5;241m.\u001b[39mdepths))\n\u001b[1;32m    834\u001b[0m embedding_output, input_dimensions \u001b[38;5;241m=\u001b[39m \u001b[38;5;28mself\u001b[39m\u001b[38;5;241m.\u001b[39membeddings(\n\u001b[1;32m    835\u001b[0m     pixel_values, bool_masked_pos\u001b[38;5;241m=\u001b[39mbool_masked_pos, interpolate_pos_encoding\u001b[38;5;241m=\u001b[39minterpolate_pos_encoding\n\u001b[1;32m    836\u001b[0m )\n\u001b[0;32m--> 838\u001b[0m encoder_outputs \u001b[38;5;241m=\u001b[39m \u001b[38;5;28;43mself\u001b[39;49m\u001b[38;5;241;43m.\u001b[39;49m\u001b[43mencoder\u001b[49m\u001b[43m(\u001b[49m\n\u001b[1;32m    839\u001b[0m \u001b[43m    \u001b[49m\u001b[43membedding_output\u001b[49m\u001b[43m,\u001b[49m\n\u001b[1;32m    840\u001b[0m \u001b[43m    \u001b[49m\u001b[43minput_dimensions\u001b[49m\u001b[43m,\u001b[49m\n\u001b[1;32m    841\u001b[0m \u001b[43m    \u001b[49m\u001b[43mhead_mask\u001b[49m\u001b[38;5;241;43m=\u001b[39;49m\u001b[43mhead_mask\u001b[49m\u001b[43m,\u001b[49m\n\u001b[1;32m    842\u001b[0m \u001b[43m    \u001b[49m\u001b[43moutput_attentions\u001b[49m\u001b[38;5;241;43m=\u001b[39;49m\u001b[43moutput_attentions\u001b[49m\u001b[43m,\u001b[49m\n\u001b[1;32m    843\u001b[0m \u001b[43m    \u001b[49m\u001b[43moutput_hidden_states\u001b[49m\u001b[38;5;241;43m=\u001b[39;49m\u001b[43moutput_hidden_states\u001b[49m\u001b[43m,\u001b[49m\n\u001b[1;32m    844\u001b[0m \u001b[43m    \u001b[49m\u001b[43mreturn_dict\u001b[49m\u001b[38;5;241;43m=\u001b[39;49m\u001b[43mreturn_dict\u001b[49m\u001b[43m,\u001b[49m\n\u001b[1;32m    845\u001b[0m \u001b[43m\u001b[49m\u001b[43m)\u001b[49m\n\u001b[1;32m    847\u001b[0m last_hidden_state \u001b[38;5;241m=\u001b[39m encoder_outputs[\u001b[38;5;241m0\u001b[39m]\n\u001b[1;32m    848\u001b[0m last_hidden_state \u001b[38;5;241m+\u001b[39m\u001b[38;5;241m=\u001b[39m \u001b[38;5;28mself\u001b[39m\u001b[38;5;241m.\u001b[39mposition_embeddings[:, :last_hidden_state\u001b[38;5;241m.\u001b[39msize(\u001b[38;5;241m1\u001b[39m), :]\n",
      "File \u001b[0;32m~/Desktop/projects/source_codes/marker/.venv/lib/python3.10/site-packages/torch/nn/modules/module.py:1553\u001b[0m, in \u001b[0;36mModule._wrapped_call_impl\u001b[0;34m(self, *args, **kwargs)\u001b[0m\n\u001b[1;32m   1551\u001b[0m     \u001b[38;5;28;01mreturn\u001b[39;00m \u001b[38;5;28mself\u001b[39m\u001b[38;5;241m.\u001b[39m_compiled_call_impl(\u001b[38;5;241m*\u001b[39margs, \u001b[38;5;241m*\u001b[39m\u001b[38;5;241m*\u001b[39mkwargs)  \u001b[38;5;66;03m# type: ignore[misc]\u001b[39;00m\n\u001b[1;32m   1552\u001b[0m \u001b[38;5;28;01melse\u001b[39;00m:\n\u001b[0;32m-> 1553\u001b[0m     \u001b[38;5;28;01mreturn\u001b[39;00m \u001b[38;5;28;43mself\u001b[39;49m\u001b[38;5;241;43m.\u001b[39;49m\u001b[43m_call_impl\u001b[49m\u001b[43m(\u001b[49m\u001b[38;5;241;43m*\u001b[39;49m\u001b[43margs\u001b[49m\u001b[43m,\u001b[49m\u001b[43m \u001b[49m\u001b[38;5;241;43m*\u001b[39;49m\u001b[38;5;241;43m*\u001b[39;49m\u001b[43mkwargs\u001b[49m\u001b[43m)\u001b[49m\n",
      "File \u001b[0;32m~/Desktop/projects/source_codes/marker/.venv/lib/python3.10/site-packages/torch/nn/modules/module.py:1562\u001b[0m, in \u001b[0;36mModule._call_impl\u001b[0;34m(self, *args, **kwargs)\u001b[0m\n\u001b[1;32m   1557\u001b[0m \u001b[38;5;66;03m# If we don't have any hooks, we want to skip the rest of the logic in\u001b[39;00m\n\u001b[1;32m   1558\u001b[0m \u001b[38;5;66;03m# this function, and just call forward.\u001b[39;00m\n\u001b[1;32m   1559\u001b[0m \u001b[38;5;28;01mif\u001b[39;00m \u001b[38;5;129;01mnot\u001b[39;00m (\u001b[38;5;28mself\u001b[39m\u001b[38;5;241m.\u001b[39m_backward_hooks \u001b[38;5;129;01mor\u001b[39;00m \u001b[38;5;28mself\u001b[39m\u001b[38;5;241m.\u001b[39m_backward_pre_hooks \u001b[38;5;129;01mor\u001b[39;00m \u001b[38;5;28mself\u001b[39m\u001b[38;5;241m.\u001b[39m_forward_hooks \u001b[38;5;129;01mor\u001b[39;00m \u001b[38;5;28mself\u001b[39m\u001b[38;5;241m.\u001b[39m_forward_pre_hooks\n\u001b[1;32m   1560\u001b[0m         \u001b[38;5;129;01mor\u001b[39;00m _global_backward_pre_hooks \u001b[38;5;129;01mor\u001b[39;00m _global_backward_hooks\n\u001b[1;32m   1561\u001b[0m         \u001b[38;5;129;01mor\u001b[39;00m _global_forward_hooks \u001b[38;5;129;01mor\u001b[39;00m _global_forward_pre_hooks):\n\u001b[0;32m-> 1562\u001b[0m     \u001b[38;5;28;01mreturn\u001b[39;00m \u001b[43mforward_call\u001b[49m\u001b[43m(\u001b[49m\u001b[38;5;241;43m*\u001b[39;49m\u001b[43margs\u001b[49m\u001b[43m,\u001b[49m\u001b[43m \u001b[49m\u001b[38;5;241;43m*\u001b[39;49m\u001b[38;5;241;43m*\u001b[39;49m\u001b[43mkwargs\u001b[49m\u001b[43m)\u001b[49m\n\u001b[1;32m   1564\u001b[0m \u001b[38;5;28;01mtry\u001b[39;00m:\n\u001b[1;32m   1565\u001b[0m     result \u001b[38;5;241m=\u001b[39m \u001b[38;5;28;01mNone\u001b[39;00m\n",
      "File \u001b[0;32m~/Desktop/projects/source_codes/marker/.venv/lib/python3.10/site-packages/surya/model/recognition/encoder.py:710\u001b[0m, in \u001b[0;36mDonutSwinEncoder.forward\u001b[0;34m(self, hidden_states, input_dimensions, head_mask, output_attentions, output_hidden_states, output_hidden_states_before_downsampling, always_partition, return_dict)\u001b[0m\n\u001b[1;32m    701\u001b[0m     layer_outputs \u001b[38;5;241m=\u001b[39m \u001b[38;5;28mself\u001b[39m\u001b[38;5;241m.\u001b[39m_gradient_checkpointing_func(\n\u001b[1;32m    702\u001b[0m         layer_module\u001b[38;5;241m.\u001b[39m\u001b[38;5;21m__call__\u001b[39m,\n\u001b[1;32m    703\u001b[0m         hidden_states,\n\u001b[0;32m   (...)\u001b[0m\n\u001b[1;32m    707\u001b[0m         always_partition,\n\u001b[1;32m    708\u001b[0m     )\n\u001b[1;32m    709\u001b[0m \u001b[38;5;28;01melse\u001b[39;00m:\n\u001b[0;32m--> 710\u001b[0m     layer_outputs \u001b[38;5;241m=\u001b[39m \u001b[43mlayer_module\u001b[49m\u001b[43m(\u001b[49m\n\u001b[1;32m    711\u001b[0m \u001b[43m        \u001b[49m\u001b[43mhidden_states\u001b[49m\u001b[43m,\u001b[49m\u001b[43m \u001b[49m\u001b[43minput_dimensions\u001b[49m\u001b[43m,\u001b[49m\u001b[43m \u001b[49m\u001b[43mlayer_head_mask\u001b[49m\u001b[43m,\u001b[49m\u001b[43m \u001b[49m\u001b[43moutput_attentions\u001b[49m\u001b[43m,\u001b[49m\u001b[43m \u001b[49m\u001b[43malways_partition\u001b[49m\n\u001b[1;32m    712\u001b[0m \u001b[43m    \u001b[49m\u001b[43m)\u001b[49m\n\u001b[1;32m    714\u001b[0m hidden_states \u001b[38;5;241m=\u001b[39m layer_outputs[\u001b[38;5;241m0\u001b[39m]\n\u001b[1;32m    715\u001b[0m hidden_states_before_downsampling \u001b[38;5;241m=\u001b[39m layer_outputs[\u001b[38;5;241m1\u001b[39m]\n",
      "File \u001b[0;32m~/Desktop/projects/source_codes/marker/.venv/lib/python3.10/site-packages/torch/nn/modules/module.py:1553\u001b[0m, in \u001b[0;36mModule._wrapped_call_impl\u001b[0;34m(self, *args, **kwargs)\u001b[0m\n\u001b[1;32m   1551\u001b[0m     \u001b[38;5;28;01mreturn\u001b[39;00m \u001b[38;5;28mself\u001b[39m\u001b[38;5;241m.\u001b[39m_compiled_call_impl(\u001b[38;5;241m*\u001b[39margs, \u001b[38;5;241m*\u001b[39m\u001b[38;5;241m*\u001b[39mkwargs)  \u001b[38;5;66;03m# type: ignore[misc]\u001b[39;00m\n\u001b[1;32m   1552\u001b[0m \u001b[38;5;28;01melse\u001b[39;00m:\n\u001b[0;32m-> 1553\u001b[0m     \u001b[38;5;28;01mreturn\u001b[39;00m \u001b[38;5;28;43mself\u001b[39;49m\u001b[38;5;241;43m.\u001b[39;49m\u001b[43m_call_impl\u001b[49m\u001b[43m(\u001b[49m\u001b[38;5;241;43m*\u001b[39;49m\u001b[43margs\u001b[49m\u001b[43m,\u001b[49m\u001b[43m \u001b[49m\u001b[38;5;241;43m*\u001b[39;49m\u001b[38;5;241;43m*\u001b[39;49m\u001b[43mkwargs\u001b[49m\u001b[43m)\u001b[49m\n",
      "File \u001b[0;32m~/Desktop/projects/source_codes/marker/.venv/lib/python3.10/site-packages/torch/nn/modules/module.py:1562\u001b[0m, in \u001b[0;36mModule._call_impl\u001b[0;34m(self, *args, **kwargs)\u001b[0m\n\u001b[1;32m   1557\u001b[0m \u001b[38;5;66;03m# If we don't have any hooks, we want to skip the rest of the logic in\u001b[39;00m\n\u001b[1;32m   1558\u001b[0m \u001b[38;5;66;03m# this function, and just call forward.\u001b[39;00m\n\u001b[1;32m   1559\u001b[0m \u001b[38;5;28;01mif\u001b[39;00m \u001b[38;5;129;01mnot\u001b[39;00m (\u001b[38;5;28mself\u001b[39m\u001b[38;5;241m.\u001b[39m_backward_hooks \u001b[38;5;129;01mor\u001b[39;00m \u001b[38;5;28mself\u001b[39m\u001b[38;5;241m.\u001b[39m_backward_pre_hooks \u001b[38;5;129;01mor\u001b[39;00m \u001b[38;5;28mself\u001b[39m\u001b[38;5;241m.\u001b[39m_forward_hooks \u001b[38;5;129;01mor\u001b[39;00m \u001b[38;5;28mself\u001b[39m\u001b[38;5;241m.\u001b[39m_forward_pre_hooks\n\u001b[1;32m   1560\u001b[0m         \u001b[38;5;129;01mor\u001b[39;00m _global_backward_pre_hooks \u001b[38;5;129;01mor\u001b[39;00m _global_backward_hooks\n\u001b[1;32m   1561\u001b[0m         \u001b[38;5;129;01mor\u001b[39;00m _global_forward_hooks \u001b[38;5;129;01mor\u001b[39;00m _global_forward_pre_hooks):\n\u001b[0;32m-> 1562\u001b[0m     \u001b[38;5;28;01mreturn\u001b[39;00m \u001b[43mforward_call\u001b[49m\u001b[43m(\u001b[49m\u001b[38;5;241;43m*\u001b[39;49m\u001b[43margs\u001b[49m\u001b[43m,\u001b[49m\u001b[43m \u001b[49m\u001b[38;5;241;43m*\u001b[39;49m\u001b[38;5;241;43m*\u001b[39;49m\u001b[43mkwargs\u001b[49m\u001b[43m)\u001b[49m\n\u001b[1;32m   1564\u001b[0m \u001b[38;5;28;01mtry\u001b[39;00m:\n\u001b[1;32m   1565\u001b[0m     result \u001b[38;5;241m=\u001b[39m \u001b[38;5;28;01mNone\u001b[39;00m\n",
      "File \u001b[0;32m~/Desktop/projects/source_codes/marker/.venv/lib/python3.10/site-packages/surya/model/recognition/encoder.py:628\u001b[0m, in \u001b[0;36mDonutSwinStage.forward\u001b[0;34m(self, hidden_states, input_dimensions, head_mask, output_attentions, always_partition)\u001b[0m\n\u001b[1;32m    625\u001b[0m \u001b[38;5;28;01mfor\u001b[39;00m i, layer_module \u001b[38;5;129;01min\u001b[39;00m \u001b[38;5;28menumerate\u001b[39m(\u001b[38;5;28mself\u001b[39m\u001b[38;5;241m.\u001b[39mblocks):\n\u001b[1;32m    626\u001b[0m     layer_head_mask \u001b[38;5;241m=\u001b[39m head_mask[i] \u001b[38;5;28;01mif\u001b[39;00m head_mask \u001b[38;5;129;01mis\u001b[39;00m \u001b[38;5;129;01mnot\u001b[39;00m \u001b[38;5;28;01mNone\u001b[39;00m \u001b[38;5;28;01melse\u001b[39;00m \u001b[38;5;28;01mNone\u001b[39;00m\n\u001b[0;32m--> 628\u001b[0m     layer_outputs \u001b[38;5;241m=\u001b[39m \u001b[43mlayer_module\u001b[49m\u001b[43m(\u001b[49m\n\u001b[1;32m    629\u001b[0m \u001b[43m        \u001b[49m\u001b[43mhidden_states\u001b[49m\u001b[43m,\u001b[49m\u001b[43m \u001b[49m\u001b[43minput_dimensions\u001b[49m\u001b[43m,\u001b[49m\u001b[43m \u001b[49m\u001b[43mlayer_head_mask\u001b[49m\u001b[43m,\u001b[49m\u001b[43m \u001b[49m\u001b[43moutput_attentions\u001b[49m\u001b[43m,\u001b[49m\u001b[43m \u001b[49m\u001b[43malways_partition\u001b[49m\n\u001b[1;32m    630\u001b[0m \u001b[43m    \u001b[49m\u001b[43m)\u001b[49m\n\u001b[1;32m    632\u001b[0m     hidden_states \u001b[38;5;241m=\u001b[39m layer_outputs[\u001b[38;5;241m0\u001b[39m]\n\u001b[1;32m    634\u001b[0m hidden_states_before_downsampling \u001b[38;5;241m=\u001b[39m hidden_states\n",
      "File \u001b[0;32m~/Desktop/projects/source_codes/marker/.venv/lib/python3.10/site-packages/torch/nn/modules/module.py:1553\u001b[0m, in \u001b[0;36mModule._wrapped_call_impl\u001b[0;34m(self, *args, **kwargs)\u001b[0m\n\u001b[1;32m   1551\u001b[0m     \u001b[38;5;28;01mreturn\u001b[39;00m \u001b[38;5;28mself\u001b[39m\u001b[38;5;241m.\u001b[39m_compiled_call_impl(\u001b[38;5;241m*\u001b[39margs, \u001b[38;5;241m*\u001b[39m\u001b[38;5;241m*\u001b[39mkwargs)  \u001b[38;5;66;03m# type: ignore[misc]\u001b[39;00m\n\u001b[1;32m   1552\u001b[0m \u001b[38;5;28;01melse\u001b[39;00m:\n\u001b[0;32m-> 1553\u001b[0m     \u001b[38;5;28;01mreturn\u001b[39;00m \u001b[38;5;28;43mself\u001b[39;49m\u001b[38;5;241;43m.\u001b[39;49m\u001b[43m_call_impl\u001b[49m\u001b[43m(\u001b[49m\u001b[38;5;241;43m*\u001b[39;49m\u001b[43margs\u001b[49m\u001b[43m,\u001b[49m\u001b[43m \u001b[49m\u001b[38;5;241;43m*\u001b[39;49m\u001b[38;5;241;43m*\u001b[39;49m\u001b[43mkwargs\u001b[49m\u001b[43m)\u001b[49m\n",
      "File \u001b[0;32m~/Desktop/projects/source_codes/marker/.venv/lib/python3.10/site-packages/torch/nn/modules/module.py:1562\u001b[0m, in \u001b[0;36mModule._call_impl\u001b[0;34m(self, *args, **kwargs)\u001b[0m\n\u001b[1;32m   1557\u001b[0m \u001b[38;5;66;03m# If we don't have any hooks, we want to skip the rest of the logic in\u001b[39;00m\n\u001b[1;32m   1558\u001b[0m \u001b[38;5;66;03m# this function, and just call forward.\u001b[39;00m\n\u001b[1;32m   1559\u001b[0m \u001b[38;5;28;01mif\u001b[39;00m \u001b[38;5;129;01mnot\u001b[39;00m (\u001b[38;5;28mself\u001b[39m\u001b[38;5;241m.\u001b[39m_backward_hooks \u001b[38;5;129;01mor\u001b[39;00m \u001b[38;5;28mself\u001b[39m\u001b[38;5;241m.\u001b[39m_backward_pre_hooks \u001b[38;5;129;01mor\u001b[39;00m \u001b[38;5;28mself\u001b[39m\u001b[38;5;241m.\u001b[39m_forward_hooks \u001b[38;5;129;01mor\u001b[39;00m \u001b[38;5;28mself\u001b[39m\u001b[38;5;241m.\u001b[39m_forward_pre_hooks\n\u001b[1;32m   1560\u001b[0m         \u001b[38;5;129;01mor\u001b[39;00m _global_backward_pre_hooks \u001b[38;5;129;01mor\u001b[39;00m _global_backward_hooks\n\u001b[1;32m   1561\u001b[0m         \u001b[38;5;129;01mor\u001b[39;00m _global_forward_hooks \u001b[38;5;129;01mor\u001b[39;00m _global_forward_pre_hooks):\n\u001b[0;32m-> 1562\u001b[0m     \u001b[38;5;28;01mreturn\u001b[39;00m \u001b[43mforward_call\u001b[49m\u001b[43m(\u001b[49m\u001b[38;5;241;43m*\u001b[39;49m\u001b[43margs\u001b[49m\u001b[43m,\u001b[49m\u001b[43m \u001b[49m\u001b[38;5;241;43m*\u001b[39;49m\u001b[38;5;241;43m*\u001b[39;49m\u001b[43mkwargs\u001b[49m\u001b[43m)\u001b[49m\n\u001b[1;32m   1564\u001b[0m \u001b[38;5;28;01mtry\u001b[39;00m:\n\u001b[1;32m   1565\u001b[0m     result \u001b[38;5;241m=\u001b[39m \u001b[38;5;28;01mNone\u001b[39;00m\n",
      "File \u001b[0;32m~/Desktop/projects/source_codes/marker/.venv/lib/python3.10/site-packages/surya/model/recognition/encoder.py:581\u001b[0m, in \u001b[0;36mDonutSwinLayer.forward\u001b[0;34m(self, hidden_states, input_dimensions, head_mask, output_attentions, always_partition)\u001b[0m\n\u001b[1;32m    578\u001b[0m hidden_states \u001b[38;5;241m=\u001b[39m shortcut \u001b[38;5;241m+\u001b[39m \u001b[38;5;28mself\u001b[39m\u001b[38;5;241m.\u001b[39mdrop_path(attention_windows)\n\u001b[1;32m    580\u001b[0m layer_output \u001b[38;5;241m=\u001b[39m \u001b[38;5;28mself\u001b[39m\u001b[38;5;241m.\u001b[39mlayernorm_after(hidden_states)\n\u001b[0;32m--> 581\u001b[0m layer_output \u001b[38;5;241m=\u001b[39m \u001b[38;5;28;43mself\u001b[39;49m\u001b[38;5;241;43m.\u001b[39;49m\u001b[43mintermediate\u001b[49m\u001b[43m(\u001b[49m\u001b[43mlayer_output\u001b[49m\u001b[43m)\u001b[49m\n\u001b[1;32m    582\u001b[0m layer_output \u001b[38;5;241m=\u001b[39m hidden_states \u001b[38;5;241m+\u001b[39m \u001b[38;5;28mself\u001b[39m\u001b[38;5;241m.\u001b[39moutput(layer_output)\n\u001b[1;32m    584\u001b[0m layer_outputs \u001b[38;5;241m=\u001b[39m (layer_output, attention_outputs[\u001b[38;5;241m1\u001b[39m]) \u001b[38;5;28;01mif\u001b[39;00m output_attentions \u001b[38;5;28;01melse\u001b[39;00m (layer_output,)\n",
      "File \u001b[0;32m~/Desktop/projects/source_codes/marker/.venv/lib/python3.10/site-packages/torch/nn/modules/module.py:1553\u001b[0m, in \u001b[0;36mModule._wrapped_call_impl\u001b[0;34m(self, *args, **kwargs)\u001b[0m\n\u001b[1;32m   1551\u001b[0m     \u001b[38;5;28;01mreturn\u001b[39;00m \u001b[38;5;28mself\u001b[39m\u001b[38;5;241m.\u001b[39m_compiled_call_impl(\u001b[38;5;241m*\u001b[39margs, \u001b[38;5;241m*\u001b[39m\u001b[38;5;241m*\u001b[39mkwargs)  \u001b[38;5;66;03m# type: ignore[misc]\u001b[39;00m\n\u001b[1;32m   1552\u001b[0m \u001b[38;5;28;01melse\u001b[39;00m:\n\u001b[0;32m-> 1553\u001b[0m     \u001b[38;5;28;01mreturn\u001b[39;00m \u001b[38;5;28;43mself\u001b[39;49m\u001b[38;5;241;43m.\u001b[39;49m\u001b[43m_call_impl\u001b[49m\u001b[43m(\u001b[49m\u001b[38;5;241;43m*\u001b[39;49m\u001b[43margs\u001b[49m\u001b[43m,\u001b[49m\u001b[43m \u001b[49m\u001b[38;5;241;43m*\u001b[39;49m\u001b[38;5;241;43m*\u001b[39;49m\u001b[43mkwargs\u001b[49m\u001b[43m)\u001b[49m\n",
      "File \u001b[0;32m~/Desktop/projects/source_codes/marker/.venv/lib/python3.10/site-packages/torch/nn/modules/module.py:1562\u001b[0m, in \u001b[0;36mModule._call_impl\u001b[0;34m(self, *args, **kwargs)\u001b[0m\n\u001b[1;32m   1557\u001b[0m \u001b[38;5;66;03m# If we don't have any hooks, we want to skip the rest of the logic in\u001b[39;00m\n\u001b[1;32m   1558\u001b[0m \u001b[38;5;66;03m# this function, and just call forward.\u001b[39;00m\n\u001b[1;32m   1559\u001b[0m \u001b[38;5;28;01mif\u001b[39;00m \u001b[38;5;129;01mnot\u001b[39;00m (\u001b[38;5;28mself\u001b[39m\u001b[38;5;241m.\u001b[39m_backward_hooks \u001b[38;5;129;01mor\u001b[39;00m \u001b[38;5;28mself\u001b[39m\u001b[38;5;241m.\u001b[39m_backward_pre_hooks \u001b[38;5;129;01mor\u001b[39;00m \u001b[38;5;28mself\u001b[39m\u001b[38;5;241m.\u001b[39m_forward_hooks \u001b[38;5;129;01mor\u001b[39;00m \u001b[38;5;28mself\u001b[39m\u001b[38;5;241m.\u001b[39m_forward_pre_hooks\n\u001b[1;32m   1560\u001b[0m         \u001b[38;5;129;01mor\u001b[39;00m _global_backward_pre_hooks \u001b[38;5;129;01mor\u001b[39;00m _global_backward_hooks\n\u001b[1;32m   1561\u001b[0m         \u001b[38;5;129;01mor\u001b[39;00m _global_forward_hooks \u001b[38;5;129;01mor\u001b[39;00m _global_forward_pre_hooks):\n\u001b[0;32m-> 1562\u001b[0m     \u001b[38;5;28;01mreturn\u001b[39;00m \u001b[43mforward_call\u001b[49m\u001b[43m(\u001b[49m\u001b[38;5;241;43m*\u001b[39;49m\u001b[43margs\u001b[49m\u001b[43m,\u001b[49m\u001b[43m \u001b[49m\u001b[38;5;241;43m*\u001b[39;49m\u001b[38;5;241;43m*\u001b[39;49m\u001b[43mkwargs\u001b[49m\u001b[43m)\u001b[49m\n\u001b[1;32m   1564\u001b[0m \u001b[38;5;28;01mtry\u001b[39;00m:\n\u001b[1;32m   1565\u001b[0m     result \u001b[38;5;241m=\u001b[39m \u001b[38;5;28;01mNone\u001b[39;00m\n",
      "File \u001b[0;32m~/Desktop/projects/source_codes/marker/.venv/lib/python3.10/site-packages/surya/model/recognition/encoder.py:445\u001b[0m, in \u001b[0;36mDonutSwinIntermediate.forward\u001b[0;34m(self, hidden_states)\u001b[0m\n\u001b[1;32m    443\u001b[0m \u001b[38;5;28;01mdef\u001b[39;00m \u001b[38;5;21mforward\u001b[39m(\u001b[38;5;28mself\u001b[39m, hidden_states: torch\u001b[38;5;241m.\u001b[39mTensor) \u001b[38;5;241m-\u001b[39m\u001b[38;5;241m>\u001b[39m torch\u001b[38;5;241m.\u001b[39mTensor:\n\u001b[1;32m    444\u001b[0m     hidden_states \u001b[38;5;241m=\u001b[39m \u001b[38;5;28mself\u001b[39m\u001b[38;5;241m.\u001b[39mdense(hidden_states)\n\u001b[0;32m--> 445\u001b[0m     hidden_states \u001b[38;5;241m=\u001b[39m \u001b[38;5;28;43mself\u001b[39;49m\u001b[38;5;241;43m.\u001b[39;49m\u001b[43mintermediate_act_fn\u001b[49m\u001b[43m(\u001b[49m\u001b[43mhidden_states\u001b[49m\u001b[43m)\u001b[49m\n\u001b[1;32m    446\u001b[0m     \u001b[38;5;28;01mreturn\u001b[39;00m hidden_states\n",
      "File \u001b[0;32m~/Desktop/projects/source_codes/marker/.venv/lib/python3.10/site-packages/torch/nn/modules/module.py:1553\u001b[0m, in \u001b[0;36mModule._wrapped_call_impl\u001b[0;34m(self, *args, **kwargs)\u001b[0m\n\u001b[1;32m   1551\u001b[0m     \u001b[38;5;28;01mreturn\u001b[39;00m \u001b[38;5;28mself\u001b[39m\u001b[38;5;241m.\u001b[39m_compiled_call_impl(\u001b[38;5;241m*\u001b[39margs, \u001b[38;5;241m*\u001b[39m\u001b[38;5;241m*\u001b[39mkwargs)  \u001b[38;5;66;03m# type: ignore[misc]\u001b[39;00m\n\u001b[1;32m   1552\u001b[0m \u001b[38;5;28;01melse\u001b[39;00m:\n\u001b[0;32m-> 1553\u001b[0m     \u001b[38;5;28;01mreturn\u001b[39;00m \u001b[38;5;28;43mself\u001b[39;49m\u001b[38;5;241;43m.\u001b[39;49m\u001b[43m_call_impl\u001b[49m\u001b[43m(\u001b[49m\u001b[38;5;241;43m*\u001b[39;49m\u001b[43margs\u001b[49m\u001b[43m,\u001b[49m\u001b[43m \u001b[49m\u001b[38;5;241;43m*\u001b[39;49m\u001b[38;5;241;43m*\u001b[39;49m\u001b[43mkwargs\u001b[49m\u001b[43m)\u001b[49m\n",
      "File \u001b[0;32m~/Desktop/projects/source_codes/marker/.venv/lib/python3.10/site-packages/torch/nn/modules/module.py:1562\u001b[0m, in \u001b[0;36mModule._call_impl\u001b[0;34m(self, *args, **kwargs)\u001b[0m\n\u001b[1;32m   1557\u001b[0m \u001b[38;5;66;03m# If we don't have any hooks, we want to skip the rest of the logic in\u001b[39;00m\n\u001b[1;32m   1558\u001b[0m \u001b[38;5;66;03m# this function, and just call forward.\u001b[39;00m\n\u001b[1;32m   1559\u001b[0m \u001b[38;5;28;01mif\u001b[39;00m \u001b[38;5;129;01mnot\u001b[39;00m (\u001b[38;5;28mself\u001b[39m\u001b[38;5;241m.\u001b[39m_backward_hooks \u001b[38;5;129;01mor\u001b[39;00m \u001b[38;5;28mself\u001b[39m\u001b[38;5;241m.\u001b[39m_backward_pre_hooks \u001b[38;5;129;01mor\u001b[39;00m \u001b[38;5;28mself\u001b[39m\u001b[38;5;241m.\u001b[39m_forward_hooks \u001b[38;5;129;01mor\u001b[39;00m \u001b[38;5;28mself\u001b[39m\u001b[38;5;241m.\u001b[39m_forward_pre_hooks\n\u001b[1;32m   1560\u001b[0m         \u001b[38;5;129;01mor\u001b[39;00m _global_backward_pre_hooks \u001b[38;5;129;01mor\u001b[39;00m _global_backward_hooks\n\u001b[1;32m   1561\u001b[0m         \u001b[38;5;129;01mor\u001b[39;00m _global_forward_hooks \u001b[38;5;129;01mor\u001b[39;00m _global_forward_pre_hooks):\n\u001b[0;32m-> 1562\u001b[0m     \u001b[38;5;28;01mreturn\u001b[39;00m \u001b[43mforward_call\u001b[49m\u001b[43m(\u001b[49m\u001b[38;5;241;43m*\u001b[39;49m\u001b[43margs\u001b[49m\u001b[43m,\u001b[49m\u001b[43m \u001b[49m\u001b[38;5;241;43m*\u001b[39;49m\u001b[38;5;241;43m*\u001b[39;49m\u001b[43mkwargs\u001b[49m\u001b[43m)\u001b[49m\n\u001b[1;32m   1564\u001b[0m \u001b[38;5;28;01mtry\u001b[39;00m:\n\u001b[1;32m   1565\u001b[0m     result \u001b[38;5;241m=\u001b[39m \u001b[38;5;28;01mNone\u001b[39;00m\n",
      "File \u001b[0;32m~/Desktop/projects/source_codes/marker/.venv/lib/python3.10/site-packages/transformers/activations.py:78\u001b[0m, in \u001b[0;36mGELUActivation.forward\u001b[0;34m(self, input)\u001b[0m\n\u001b[1;32m     77\u001b[0m \u001b[38;5;28;01mdef\u001b[39;00m \u001b[38;5;21mforward\u001b[39m(\u001b[38;5;28mself\u001b[39m, \u001b[38;5;28minput\u001b[39m: Tensor) \u001b[38;5;241m-\u001b[39m\u001b[38;5;241m>\u001b[39m Tensor:\n\u001b[0;32m---> 78\u001b[0m     \u001b[38;5;28;01mreturn\u001b[39;00m \u001b[38;5;28;43mself\u001b[39;49m\u001b[38;5;241;43m.\u001b[39;49m\u001b[43mact\u001b[49m\u001b[43m(\u001b[49m\u001b[38;5;28;43minput\u001b[39;49m\u001b[43m)\u001b[49m\n",
      "\u001b[0;31mOutOfMemoryError\u001b[0m: CUDA out of memory. Tried to allocate 3.51 GiB. GPU 0 has a total capacity of 23.55 GiB of which 1.46 GiB is free. Process 10966 has 1.04 GiB memory in use. Process 52004 has 5.96 GiB memory in use. Including non-PyTorch memory, this process has 15.02 GiB memory in use. Of the allocated memory 12.53 GiB is allocated by PyTorch, and 2.03 GiB is reserved by PyTorch but unallocated. If reserved but unallocated memory is large try setting PYTORCH_CUDA_ALLOC_CONF=expandable_segments:True to avoid fragmentation.  See documentation for Memory Management  (https://pytorch.org/docs/stable/notes/cuda.html#environment-variables)"
     ]
    }
   ],
   "source": [
    "from convert import convert_single_pdf\n",
    "fpath = \"/home/jenny/Downloads/Archive 2/scm_metals/NCS000050_Permit (Issuance)_20230524.pdf\"\n",
    "fpath = \"/home/jenny/Downloads/Archive/wilders_grove_yard_waste/WI0500447/WI0500447_Correspondence_20190529.pdf\"\n",
    "# fpath = \"/home/jenny/Downloads/Archive 2/wilders_grove_yard_waste/WI0500447/WI0500447_Staff Report_20200911.pdf\"\n",
    "# fpath = \"/home/jenny/Downloads/01005_Eakes Drycleaners_BF Site Assmt.pdf\"\n",
    "full_text, doc_images, out_meta, pages, text_blocks = convert_single_pdf(fpath, model_lst)"
   ]
  },
  {
   "cell_type": "code",
   "execution_count": 19,
   "metadata": {},
   "outputs": [
    {
     "data": {
      "text/plain": [
       "[['1|-7',\n",
       "  [184.0, 94.04461319411486, 728.0, 679.3222591362127],\n",
       "  'Division of Waste Management December 23, 1997 Mr. Phil Vorsatz\\n\\n![0_image_0.png](0_image_0.png)\\n\\n\\n\\n![0_image_1.png](0_image_1.png)\\n\\n\\n\\n![0_image_2.png](0_image_2.png)\\n\\n\\nNC CERCLA Project Officer EPA Region IV Waste Division 345 Courtland Street, NE\\nAtlanta, Georgia 30365 RE:\\nBrownfield Site Assessment Report Eakes Dry Cleaners.\\n\\nDurham, Durham County, North Carolina Dear Mr. Vorsatz:\\nThis letter is being sent to you to convey the information that the North Carolina Superfund Section has obtained on a site named Eakes Dry Cleaners.\\n\\nEakes Cleaners is located at 827 West Morgan Street in Durham, North Carolina.  It consists of a 6,600 square foot brick and block building situated on approximately 0.3 acres. The site was a Dry Cleaning and Fur Storage business for many years until its closure in 1995, after the death of Mr. Eakes and the bankruptcy of his estate. The site is located in a mixed commercial, light industrial, and residential area in downtown Durham.  The site is located at North 36º 00\\' 02.5\" and West 078º 54\\' 36.0\".',\n",
       "  'Text',\n",
       "  False],\n",
       " ['1|-9',\n",
       "  [182.0, 697.3308020882772, 710.0, 873.4143331751305],\n",
       "  'On October 14, 1996 Front Royal Environmental Services, Inc. submitted a Limited Soil and Groundwater Investigation Report to Mr. John A. Northen, Trustee in Bankruptcy for the site. This report revealed significant soil and groundwater contamination. The primary contaminants are tetrachloroethylene and its degradation products; trichloroethylene, trans-1,2dichloroethene, 1,1dichloroethene, and vinyl chloride. These contaminants are associated with the dry cleaning process and are concentrated in two areas; outside the Boiler/Distillation room and outside the old sump area along the south wall of the building. The remaining contaminants, benzene, toluene, ethylbenzene, xylenes (BTEX), and naphthalene are associated with an underground heating oil tank located at the northwest corner of the building.',\n",
       "  'Text',\n",
       "  False],\n",
       " ['1|-10',\n",
       "  [230.0, 992.4708115804461, 721.0, 1024.4859990507832],\n",
       "  '\\n\\n![0_image_3.png](0_image_3.png)\\n\\n',\n",
       "  'Page-footer',\n",
       "  True],\n",
       " ['2|-1',\n",
       "  [423.0, 89.04224015187471, 474.0, 106.05030849549122],\n",
       "  '\\nTable 1\\n',\n",
       "  'Caption',\n",
       "  False],\n",
       " ['2|-2',\n",
       "  [414.0, 221.89468690702088, 1374.0, 1137.4601518026566],\n",
       "  '\\n|           |                                                                                                                                                                             | Soil Analytical Results (mg/kg or ppm)   |                             |\\n|-----------|-----------------------------------------------------------------------------------------------------------------------------------------------------------------------------|------------------------------------------|-----------------------------|\\n| Sample ID | Date                                                                                                                                                                        | Depth(feet)                              | Analytical Results          |\\n|           | Collected                                                                                                                                                                   |                                          |                             |\\n| ਟੰਡ\\\\-I     | 9/11/96                                                                                                                                                                     | 3.5                                      | 534 diesel                  |\\n| SS\\\\-2     | ਰੇ/11/96                                                                                                                                                                     | 3.0                                      | 81.3 diesel                 |\\n| द्रद\\\\-उ    | ਰੇ/11/96                                                                                                                                                                     | 2.5                                      | BDL diesel 0.0124 trans DCA |\\n|           |                                                                                                                                                                             |                                          | 0.0338 vinyl chloride       |\\n| द्रदे\\\\-४    | ਰੋ\\\\I I / ) / ) / ) / ) / ) / ) / ( / ) / ) / ) / ) / ( / ) / ) / ) / ) / ) / ) / ) / ) / ) / ( / ) / ) / ) / ) / ) / ) / ) / ) / ) / ) / ) / / ) / ) / / ) / / ) / / / / ) / | 3.0                                      | 0.0375 trans DCA            |\\n|           |                                                                                                                                                                             |                                          | 0.005 toluene               |\\n|           |                                                                                                                                                                             |                                          | 0.0705 vinyl chloride       |\\n| ટર્ટ\\\\-ર    | ਰੇ/I I /ਰੇਵ                                                                                                                                                                   | 3.0                                      | 0.00611 toluene             |\\n|           |                                                                                                                                                                             |                                          | 0.00506 PCE                 |\\n| દ્રક\\\\-୧    | ਰੇ/11/96                                                                                                                                                                     | 3.0                                      | BDL TPH                     |\\n|           |                                                                                                                                                                             |                                          | BDL 8240                    |\\n| SS\\\\-7     | 9/11/96                                                                                                                                                                     | 3.0                                      | 0.174 PCE                   |\\n| ટર્ટ\\\\-8    | 9/27/96                                                                                                                                                                     | 7.0                                      | 0.005 TCE                   |\\n| ટર્ટ\\\\-ે     | 9/27/96                                                                                                                                                                     | 9.0                                      | 0.152 TCE                   |\\n|           |                                                                                                                                                                             |                                          | 0.0383 PCE                  |\\n',\n",
       "  'Table',\n",
       "  False],\n",
       " ['2|-11',\n",
       "  [276.0, 573.2719506407215, 578.0, 619.2937826293308],\n",
       "  'trans DCA\\nPCE\\nll\\n=\\ntrans-1,2 dichloroethene perchlorethylene trichloroethylene JCE\\n=',\n",
       "  'Text',\n",
       "  True],\n",
       " ['3|-11',\n",
       "  [51.0, 14.0, 928.0, 163.0],\n",
       "  '45CADIT\\n15\\n-11: 2 - 1\\n ..\"\\n0 BEST\\nFARTHING\\nOHOBXO\\n(11-JA\\n\\nBVA\\n\\n![2_image_0.png](2_image_0.png)\\n\\n\\n\\n![2_image_2.png](2_image_2.png)\\n\\n',\n",
       "  'Text',\n",
       "  False],\n",
       " ['3|-12',\n",
       "  [460.0, 164.0, 495.0, 180.0],\n",
       "  '\\n\\n![2_image_1.png](2_image_1.png)\\n\\n',\n",
       "  'Figure',\n",
       "  False],\n",
       " ['3|-21',\n",
       "  [310.0, 218.0, 959.0, 322.0],\n",
       "  'ીતા ત 18)\\n17 195 111255\\n\\n![2_image_3.png](2_image_3.png)\\n\\n\\n\\n![2_image_7.png](2_image_7.png)\\n\\n\\n篇 TE\\nANDER',\n",
       "  'Text',\n",
       "  False],\n",
       " ['3|-23',\n",
       "  [243.0, 410.0, 329.0, 463.0],\n",
       "  '\\n\\n![2_image_18.png](2_image_18.png)\\n\\n\\n\\n\\n![2_image_6.png](2_image_6.png)\\n\\n\\n\\n![2_image_8.png](2_image_8.png)\\n\\n',\n",
       "  'Figure',\n",
       "  False],\n",
       " ['3|-49',\n",
       "  [112.0, 334.0, 1029.0, 516.0],\n",
       "  'と・Watt\\n\\n![2_image_5.png](2_image_5.png)\\n\\n\\nGREGSON\\nبا .....\\n\\n![2_image_4.png](2_image_4.png)\\n\\n\\nـــ\\nO G\\n15834818 0\\n\\n![2_image_9.png](2_image_9.png)\\n\\n\\n\\n![2_image_12.png](2_image_12.png)\\n\\n\\n10)\\n\\n![2_image_11.png](2_image_11.png)\\n\\n\\n\\n![2_image_14.png](2_image_14.png)\\n\\n\\n\\n![2_image_23.png](2_image_23.png)\\n\\n\\n11\\n\\n![2_image_10.png](2_image_10.png)\\n\\n\\n\\n![2_image_13.png](2_image_13.png)\\n\\n\\n\\n![2_image_15.png](2_image_15.png)\\n\\n\\n\\n![2_image_19.png](2_image_19.png)\\n\\n\\n\\n![2_image_21.png](2_image_21.png)\\n\\n\\n\\n![2_image_22.png](2_image_22.png)\\n\\n\\n15\\n\\n![2_image_24.png](2_image_24.png)\\n\\n\\nત ર\\n\\n![2_image_16.png](2_image_16.png)\\n\\n\\n\\n![2_image_17.png](2_image_17.png)\\n\\n\\n\\n![2_image_20.png](2_image_20.png)\\n\\n\\n125 RESERVE\\n师 Mi el sils\\n\\n![2_image_25.png](2_image_25.png)\\n\\n\\n\\n![2_image_26.png](2_image_26.png)\\n\\n\\nD\\n( US 7 - 7)\\nCAROLINA\\n2017 อัลการ ALABA\\nT\\nប្រទេក្រ 1-11\\nે નિર 2',\n",
       "  'Text',\n",
       "  True],\n",
       " ['4|-1',\n",
       "  [263.0, 296.0, 402.0, 385.0],\n",
       "  '\\n\\n![3_image_0.png](3_image_0.png)\\n\\n',\n",
       "  'Figure',\n",
       "  False],\n",
       " ['4|-20',\n",
       "  [787.0, 778.0, 1592.0, 227.0],\n",
       "  'company of the company\\n:\\n ବି  ୧୯୮୮ ମସିହାର FIGURE\\n4 SCALE\\n1\" = 15\\' PROJECT \\\\# 2239-96-183 ROYA\\nENAIRONMENTAL SEBAICES, IN\\nE\\nRONT\\nWEL\\n/MONITOR\\n MA\\nEAKES DRYCLEANERS\\nDURHAM, NORTH CAROLINA\\nBORING,\\nCATION \\n11',\n",
       "  'Text',\n",
       "  True],\n",
       " ['5|-1',\n",
       "  [442.0, 230.0, 1368.0, 940.0],\n",
       "  '\\n|                   |         | Groundwater Analytical Results on 9/27/96 (ppb)   |        |       |\\n|-------------------|---------|---------------------------------------------------|--------|-------|\\n| Analyte           | NCAC 2L | MW\\\\-1                                             | MW\\\\-2  | MW\\\\-3 |\\n| PCE               | 0.7     | 13.2                                              | 29,200 | ર્સ્ટ   |\\n| TCE               | 2.8     | 7.85                                              | 5,830  | ୧୫୪   |\\n| l.ldichloroethene | 0.0     | BDL                                               | 33.8   | 10.5  |\\n| trans DCA         | 70.0    | BDL                                               | ୧୦ I   | 71.2  |\\n| Vinyl Chloride    | 0.015   | BDF                                               | 4,000  | ୧। ર  |\\n| Benzene           | 1.0     | BDL                                               | 49.3   | BDL   |\\n| Ethylbenzene      | 29.0    | BDL                                               | 38.5   | BDL   |\\n| Toluene           | 1000.0  | BDL                                               | રવંત્તે   | BDL   |\\n| Xylenes           | 530.0   | BDL                                               | 68.3   | BDL   |\\n| Naphthalene       | 21.0    | પટ                                                | 33.8   | ਮੰਟ    |\\n',\n",
       "  'Table',\n",
       "  False],\n",
       " ['5|-12',\n",
       "  [182.0, 476.0, 710.0, 827.0],\n",
       "  'trans DCA\\n=\\n ==\\nPCE\\nTCE\\n ==\\ntrans-1.2 dichloroethene perchlorethylene trichloroethylene .\\n\\nThe monitoring wells installed by Front Royal were all screened in sandy clay at depths ranging from 7 to 12 feet.  the static groundwater levels were from 4 to 6 feet below land surface.\\n\\nEven though the groundwater has been heavily contaminated, the groundwater pathway is not a pathway of concern. The North Carolina Division of Public Health, Public Water Supply Section lists the closest community well (Tyndrum Subdivision) approximately 5 miles from the site.  No individual potable wells have been observed and none are suspected in the vicinity of the site since the entire area is served by the Durham City Water Department.\\n\\nSurface water drainage from the site is collected by the storm sewers and conveyed for approximately 0.5 miles. The drainage is then carried in an intermittent stream for another 0.5 miles before the stream becomes perennial. The unnamed perennial stream empties into Ellerbe Creek after another 0.5 miles.\\n\\nThe pathway runs 8 miles through Ellerby Creek and ends in Falls Lake.\\n\\nSince the area around the site is commercial/light industry, attribution of contaminants, if any were found, to the site would be very difficult.',\n",
       "  'Text',\n",
       "  False],\n",
       " ['6|-1',\n",
       "  [183.0, 94.0, 704.0, 427.0],\n",
       "  'The groundwater in the area of the site is very shallow, 4 to 6 feet deep.\\n\\nThe concentrations of the volatile organic compounds (VOC\\'s) are very high in monitoring well \\\\#2 (MW-2). The combination of these situations led us to examine  the possibility that contaminants were migrating into basements and buildings around the site from the off-gassing of the contaminants from groundwater. To address this possibility, a survey of construction of the surrounding buildings was performed by the North Carolina Superfund Section on December 6, 1996.  The Durham Magnet Center, part of the Durham Magnet Schools Program, at 400 N. Duke Street was the only building in the vicinity of the site that had a basement area. All of the other surrounding building were constructed in the \"slab on grade\" method.\\n\\nAir sampling was performed by David Lilley, Industrial Hygienist for the Superfund Section on March 6, 1997 at seven locations including a background and the Magnet School. These  samples were collected using a modified NIOSH\\n1007 Method and analyzed for tetrachloroethylene, trichloroethylene, and vinyl chloride. The samples were collected by low flow personal sampling pumps, through 150 mg. charcoal tubes equipped with a back-up section for a target duration of 8 hours, Then the contaminants were desorbed from the charcoal using carbon disulfide and analyzed on a gas chromatograph with a flame ionization detector.',\n",
       "  'Text',\n",
       "  False],\n",
       " ['6|-4',\n",
       "  [179.0, 447.0, 707.0, 732.0],\n",
       "  'None of the samples collected indicated the presents of any of the contaminants tested for, including BETX. The sample numbers followed by a B\\nare the analysis of the back-up section of the sample tubes.\\n\\nDue to the inability to locate any receptors using or threatened by the contaminated groundwater, the groundwater pathway is not a pathway of concern.\\n\\nNo release to the surface water pathway has been documented and no significant receptors are threatened; therefore, the surface water pathway is not a pathway of concern. Contaminant levels found in the soils are very low, with the possible exception of the petroleum products associated with the heating oil tank, and no on-site targets exist, consequently, the soil exposure pathway is not considered a pathway of concern. The outdoor air is not an area of concern and sampling has demonstrated that the indoor air in surrounding buildings has not been contaminated.\\n\\nBecause of the above factors, the North Carolina Superfund Section recommends that this site receives a status of No Further Remedial Action Planned under CERCLA/SARA (NFRAP).',\n",
       "  'Text',\n",
       "  False],\n",
       " ['6|-6',\n",
       "  [227.0, 751.0, 636.0, 764.0],\n",
       "  'If you have any questions, please contact me at (919) 733-2801.',\n",
       "  'Text',\n",
       "  False],\n",
       " ['6|-7',\n",
       "  [511.0, 784.0, 579.0, 796.0],\n",
       "  'Sincerely.\\n\\n![5_image_0.png](5_image_0.png)\\n\\n',\n",
       "  'Figure',\n",
       "  False],\n",
       " ['6|-11',\n",
       "  [178.0, 832.0, 672.0, 891.0],\n",
       "  'Harry Zinn Environmental Engineer Special Projects  Branch NC Superfund Section Enclosures HZ',\n",
       "  'Text',\n",
       "  True]]"
      ]
     },
     "execution_count": 19,
     "metadata": {},
     "output_type": "execute_result"
    }
   ],
   "source": [
    "[[block.id, block.bbox, block.text, block.block_type, block.page_end] for i, block in enumerate(text_blocks)]"
   ]
  },
  {
   "cell_type": "code",
   "execution_count": 9,
   "metadata": {},
   "outputs": [],
   "source": [
    "import os\n",
    "allfn = os.listdir(\"/home/jenny/Downloads/Archive 2/wilders_grove_yard_waste/WI0500447\")\n",
    "pdfs = set([fn for fn in allfn if fn.endswith(\".pdf\")])\n",
    "mds = set([fn for fn in allfn if not fn.endswith(\".pdf\")])"
   ]
  },
  {
   "cell_type": "code",
   "execution_count": 16,
   "metadata": {},
   "outputs": [],
   "source": [
    "import os\n",
    "from convert import convert_single_pdf\n",
    "from marker.schema.page import Page\n",
    "from output import save_markdown\n",
    "import pandas as pd\n",
    "\n",
    "def page_to_dict(page: Page) -> dict:\n",
    "    # Manually convert Page to dictionary if necessary\n",
    "    return {\n",
    "        'bbox':page.bbox,\n",
    "        'pnum': page.pnum,\n",
    "        'rotation': page.rotation,\n",
    "        'text_lines': page.text_lines,  # Assuming text_lines can be converted\n",
    "        'layout': page.layout,          # Assuming layout can be converted\n",
    "        'order': page.order,\n",
    "        'ocr_method': page.ocr_method,\n",
    "        'char_blocks': page.char_blocks,  # Assuming lists of dicts can be converted\n",
    "        'images': page.images,           # Handle images if needed\n",
    "    }\n",
    "def get_dir_pdfs(parent_dir):\n",
    "    if not os.path.exists(parent_dir):\n",
    "        raise Exception(\"Starting directory '%s' does not exist\" % parent_dir)\n",
    "    return [fn for fn in os.listdir(parent_dir) if \".pdf\" in fn]\n",
    "\n",
    "def to_refdocid(s):\n",
    "    return (\n",
    "        s.replace(\".pdf\",\"\").replace(\" \", \"_\")\n",
    "        .replace(\"(\", \"\")\n",
    "        .replace(\")\", \"\")\n",
    "        .replace(\"/\", \"_\")\n",
    "        .replace(\".\", \"-\")\n",
    "        .replace(\"#\", \"\")\n",
    "        .replace(\"'\", \"\")\n",
    "    )\n",
    "def rename_pdf(parent_dir, filename, new_filename):\n",
    "    old_file = os.path.join(parent_dir, filename)\n",
    "    new_file = os.path.join(parent_dir, new_filename)\n",
    "    os.rename(old_file, new_file)\n",
    "    \n",
    "def run(parent_dir, output_fn):\n",
    "    pdf_fns = get_dir_pdfs(parent_dir)\n",
    "    all_tblocks = []\n",
    "    all_pages = []\n",
    "    error_files = []\n",
    "    for fn in pdf_fns:\n",
    "        docid = to_refdocid(fn)\n",
    "        rename_pdf(parent_dir, fn, docid + \".pdf\")\n",
    "        input_path = os.path.join(parent_dir, docid + \".pdf\")\n",
    "        try:\n",
    "            full_text, images, out_meta, pages, tblocks = run_single(input_path, fn)\n",
    "            subfolder_path = save_markdown(parent_dir, fn, full_text, images, out_meta)\n",
    "            pd.DataFrame(tblocks, columns=['id', 'bbox', 'text', 'type', 'page_end']).to_csv(f\"{subfolder_path}/{fn}_blocks.csv\")\n",
    "            page_data = [page_to_dict(page) for page in pages]\n",
    "            pd.DataFrame(page_data).to_csv(f\"{subfolder_path}/{docid}_pages.csv\")\n",
    "            all_pages.append([docid, page_data[0]['bbox']])\n",
    "            pd.DataFrame(all_pages).to_csv(f\"{output_fn}_pages.csv\")\n",
    "            print(f\"Processed {len(tblocks)} blocks for {fn}\")\n",
    "            all_tblocks.extend(tblocks)\n",
    "            pd.DataFrame(all_tblocks, columns=['id', 'bbox', 'text', 'type', 'page_end']).to_csv(f\"{output_fn}_blocks.csv\")\n",
    "        except Exception as e:\n",
    "            print(f\"Error processing {input_path}: {e}\")\n",
    "            error_files.append(fn)\n",
    "    return all_tblocks, all_pages, error_files\n",
    "\n",
    "def run_single(input_path, fn):\n",
    "    full_text, images, out_meta, pages, text_blocks = convert_single_pdf(input_path, model_lst)\n",
    "    tblocks = [[f\"{fn}-|{block.id}\", block.bbox, block.text, block.block_type, block.page_end] for i, block in enumerate(text_blocks)]\n",
    "    return full_text, images, out_meta, pages, tblocks"
   ]
  },
  {
   "cell_type": "code",
   "execution_count": 19,
   "metadata": {},
   "outputs": [
    {
     "name": "stderr",
     "output_type": "stream",
     "text": [
      "Detecting bboxes: 100%|██████████| 19/19 [00:10<00:00,  1.82it/s]\n",
      "Recognizing Text: 100%|██████████| 534/534 [01:48<00:00,  4.94it/s]\n",
      "Detecting bboxes: 100%|██████████| 13/13 [00:17<00:00,  1.37s/it]\n",
      "Finding reading order: 100%|██████████| 13/13 [00:04<00:00,  2.83it/s]\n",
      "Detecting bboxes: 100%|██████████| 2/2 [00:04<00:00,  2.04s/it]\n",
      "Recognizing Text:  10%|█         | 3/29 [00:12<01:47,  4.14s/it]"
     ]
    },
    {
     "name": "stdout",
     "output_type": "stream",
     "text": [
      "Error processing /home/jenny/Downloads/Archive 2/wilders_grove_yard_waste/WI0500447/WI0500447_Application_20190523.pdf: CUDA out of memory. Tried to allocate 3.51 GiB. GPU 0 has a total capacity of 23.55 GiB of which 81.88 MiB is free. Process 11776 has 1.61 GiB memory in use. Process 10966 has 1.04 GiB memory in use. Including non-PyTorch memory, this process has 20.75 GiB memory in use. Of the allocated memory 14.50 GiB is allocated by PyTorch, and 5.80 GiB is reserved by PyTorch but unallocated. If reserved but unallocated memory is large try setting PYTORCH_CUDA_ALLOC_CONF=expandable_segments:True to avoid fragmentation.  See documentation for Memory Management  (https://pytorch.org/docs/stable/notes/cuda.html#environment-variables)\n"
     ]
    },
    {
     "name": "stderr",
     "output_type": "stream",
     "text": [
      "\n",
      "Detecting bboxes: 100%|██████████| 73/73 [00:37<00:00,  1.96it/s]\n",
      "Recognizing Text: 100%|██████████| 1934/1934 [08:11<00:00,  3.93it/s]\n",
      "Detecting bboxes: 100%|██████████| 49/49 [01:13<00:00,  1.50s/it]\n",
      "Finding reading order: 100%|██████████| 49/49 [00:17<00:00,  2.73it/s]\n",
      "Detecting bboxes: 100%|██████████| 8/8 [00:26<00:00,  3.27s/it]\n",
      "Recognizing Text:   3%|▎         | 4/125 [00:17<08:53,  4.41s/it]\n"
     ]
    },
    {
     "name": "stdout",
     "output_type": "stream",
     "text": [
      "Error processing /home/jenny/Downloads/Archive 2/wilders_grove_yard_waste/WI0500447/WI0500447_Report_20190311.pdf: CUDA out of memory. Tried to allocate 3.49 GiB. GPU 0 has a total capacity of 23.55 GiB of which 2.07 GiB is free. Process 10966 has 1.04 GiB memory in use. Including non-PyTorch memory, this process has 20.38 GiB memory in use. Of the allocated memory 14.41 GiB is allocated by PyTorch, and 5.51 GiB is reserved by PyTorch but unallocated. If reserved but unallocated memory is large try setting PYTORCH_CUDA_ALLOC_CONF=expandable_segments:True to avoid fragmentation.  See documentation for Memory Management  (https://pytorch.org/docs/stable/notes/cuda.html#environment-variables)\n"
     ]
    },
    {
     "name": "stderr",
     "output_type": "stream",
     "text": [
      "Detecting bboxes:  28%|██▊       | 22/79 [00:16<00:43,  1.30it/s]"
     ]
    },
    {
     "name": "stdout",
     "output_type": "stream",
     "text": [
      "Error processing /home/jenny/Downloads/Archive 2/wilders_grove_yard_waste/WI0500447/WI0500447_Report_20190215.pdf: list indices must be integers or slices, not NoneType\n"
     ]
    },
    {
     "name": "stderr",
     "output_type": "stream",
     "text": [
      "\n",
      "Detecting bboxes: 100%|██████████| 18/18 [00:05<00:00,  3.39it/s]\n",
      "Recognizing Text: 100%|██████████| 77/77 [00:20<00:00,  3.68it/s]\n",
      "Detecting bboxes: 100%|██████████| 12/12 [00:15<00:00,  1.33s/it]\n",
      "Finding reading order: 100%|██████████| 12/12 [00:04<00:00,  2.69it/s]\n",
      "Detecting bboxes: 100%|██████████| 2/2 [00:04<00:00,  2.29s/it]\n",
      "Recognizing Text:   0%|          | 0/2 [00:00<?, ?it/s]"
     ]
    },
    {
     "name": "stdout",
     "output_type": "stream",
     "text": [
      "Error processing /home/jenny/Downloads/Archive 2/wilders_grove_yard_waste/WI0500447/WI0500447_Correspondence_20190529.pdf: OpenCV(4.10.0) /io/opencv/modules/imgproc/src/resize.cpp:4152: error: (-215:Assertion failed) !ssize.empty() in function 'resize'\n",
      "\n"
     ]
    },
    {
     "name": "stderr",
     "output_type": "stream",
     "text": [
      "\n",
      "Detecting bboxes: 100%|██████████| 73/73 [00:25<00:00,  2.81it/s]\n",
      "Recognizing Text: 100%|██████████| 1150/1150 [05:23<00:00,  3.55it/s]\n",
      "Detecting bboxes: 100%|██████████| 49/49 [00:57<00:00,  1.18s/it]\n",
      "Finding reading order: 100%|██████████| 49/49 [00:13<00:00,  3.76it/s]\n",
      "Detecting bboxes: 100%|██████████| 8/8 [00:20<00:00,  2.60s/it]\n",
      "Recognizing Text:   0%|          | 0/77 [00:03<?, ?it/s]"
     ]
    },
    {
     "name": "stdout",
     "output_type": "stream",
     "text": [
      "Error processing /home/jenny/Downloads/Archive 2/wilders_grove_yard_waste/WI0500447/WI0500447_Report_20150605.pdf: CUDA out of memory. Tried to allocate 3.49 GiB. GPU 0 has a total capacity of 23.55 GiB of which 2.80 GiB is free. Process 10966 has 1.04 GiB memory in use. Including non-PyTorch memory, this process has 19.65 GiB memory in use. Of the allocated memory 14.34 GiB is allocated by PyTorch, and 4.85 GiB is reserved by PyTorch but unallocated. If reserved but unallocated memory is large try setting PYTORCH_CUDA_ALLOC_CONF=expandable_segments:True to avoid fragmentation.  See documentation for Memory Management  (https://pytorch.org/docs/stable/notes/cuda.html#environment-variables)\n"
     ]
    },
    {
     "name": "stderr",
     "output_type": "stream",
     "text": [
      "\n",
      "Detecting bboxes:   3%|▎         | 5/144 [00:05<02:33,  1.11s/it]"
     ]
    },
    {
     "name": "stdout",
     "output_type": "stream",
     "text": [
      "Error processing /home/jenny/Downloads/Archive 2/wilders_grove_yard_waste/WI0500447/WI0500447_Monitoring_Report_20200612.pdf: list indices must be integers or slices, not NoneType\n"
     ]
    },
    {
     "name": "stderr",
     "output_type": "stream",
     "text": [
      "\n",
      "Detecting bboxes: 100%|██████████| 3/3 [00:01<00:00,  1.71it/s]\n",
      "Recognizing Text: 100%|██████████| 2/2 [00:00<00:00,  3.13it/s]\n",
      "Detecting bboxes: 100%|██████████| 2/2 [00:03<00:00,  1.98s/it]\n",
      "Finding reading order: 100%|██████████| 2/2 [00:00<00:00,  2.94it/s]\n",
      "Recognizing tables: 0it [00:00, ?it/s]\n"
     ]
    },
    {
     "name": "stdout",
     "output_type": "stream",
     "text": [
      "Processed 17 blocks for WI0500447_Site_Plans_Maps_20150605_3.pdf\n"
     ]
    }
   ],
   "source": [
    "all_blocks, all_pages, errors = run(\"/home/jenny/Downloads/Archive 2/wilders_grove_yard_waste/WI0500447\", \"WI0500447\")"
   ]
  },
  {
   "cell_type": "code",
   "execution_count": null,
   "metadata": {},
   "outputs": [],
   "source": [
    "import pymupdf4llm\n",
    "md_text = pymupdf4llm.to_markdown(\"/home/jenny/Downloads/Archive 2/wilders_grove_yard_waste/WI0500447/WI0500447_Application_20190523.pdf\")\n",
    "md_text"
   ]
  },
  {
   "cell_type": "code",
   "execution_count": null,
   "metadata": {},
   "outputs": [],
   "source": []
  },
  {
   "cell_type": "code",
   "execution_count": 12,
   "metadata": {},
   "outputs": [
    {
     "data": {
      "text/html": [
       "<div>\n",
       "<style scoped>\n",
       "    .dataframe tbody tr th:only-of-type {\n",
       "        vertical-align: middle;\n",
       "    }\n",
       "\n",
       "    .dataframe tbody tr th {\n",
       "        vertical-align: top;\n",
       "    }\n",
       "\n",
       "    .dataframe thead th {\n",
       "        text-align: right;\n",
       "    }\n",
       "</style>\n",
       "<table border=\"1\" class=\"dataframe\">\n",
       "  <thead>\n",
       "    <tr style=\"text-align: right;\">\n",
       "      <th></th>\n",
       "      <th>Unnamed: 0</th>\n",
       "      <th>id</th>\n",
       "      <th>bbox</th>\n",
       "      <th>text</th>\n",
       "      <th>type</th>\n",
       "      <th>page_end</th>\n",
       "    </tr>\n",
       "  </thead>\n",
       "  <tbody>\n",
       "    <tr>\n",
       "      <th>0</th>\n",
       "      <td>0</td>\n",
       "      <td>01005_Eakes_Drycleaners_BF_Site_Assmt.pdf-|1|-18</td>\n",
       "      <td>[60.02847650688182, 78.0, 667.3165638348363, 6...</td>\n",
       "      <td>Environment and Natural Resources North Caroli...</td>\n",
       "      <td>Text</td>\n",
       "      <td>False</td>\n",
       "    </tr>\n",
       "    <tr>\n",
       "      <th>1</th>\n",
       "      <td>1</td>\n",
       "      <td>01005_Eakes_Drycleaners_BF_Site_Assmt.pdf-|1|-33</td>\n",
       "      <td>[664.3151400094922, 382.0, 1027.4874228761273,...</td>\n",
       "      <td>36° 00' 02.5\" and West 078° 54' 36.0\".\\n\\nOn O...</td>\n",
       "      <td>Text</td>\n",
       "      <td>True</td>\n",
       "    </tr>\n",
       "  </tbody>\n",
       "</table>\n",
       "</div>"
      ],
      "text/plain": [
       "   Unnamed: 0                                                id  \\\n",
       "0           0  01005_Eakes_Drycleaners_BF_Site_Assmt.pdf-|1|-18   \n",
       "1           1  01005_Eakes_Drycleaners_BF_Site_Assmt.pdf-|1|-33   \n",
       "\n",
       "                                                bbox  \\\n",
       "0  [60.02847650688182, 78.0, 667.3165638348363, 6...   \n",
       "1  [664.3151400094922, 382.0, 1027.4874228761273,...   \n",
       "\n",
       "                                                text  type  page_end  \n",
       "0  Environment and Natural Resources North Caroli...  Text     False  \n",
       "1  36° 00' 02.5\" and West 078° 54' 36.0\".\\n\\nOn O...  Text      True  "
      ]
     },
     "execution_count": 12,
     "metadata": {},
     "output_type": "execute_result"
    }
   ],
   "source": [
    "df = pd.read_csv(\"all_tblocks.csv\")\n",
    "df.head(2)"
   ]
  },
  {
   "cell_type": "code",
   "execution_count": null,
   "metadata": {},
   "outputs": [],
   "source": [
    "# NUM_DEVICES=2 DEBUG=true marker_chunk_convert /home/jenny/Downloads/Archive 2/wilders_grove_yard_waste/WI0500447/WI0500447_Application_20190523.pdf /home/jenny/Downloads/Archive 2/wilders_grove_yard_waste/WI0500447/WI0500447_Application_20190523"
   ]
  },
  {
   "cell_type": "code",
   "execution_count": 16,
   "metadata": {},
   "outputs": [
    {
     "data": {
      "text/plain": [
       "['Environment and Natural Resources North Carolina Department of Division of Waste Management December 23, 1997 Mr. Phil Vorsatz\\n\\n![0_image_0.png](0_image_0.png)\\n\\n\\nRCLA Project Officer Region IV Waste Division 5 Courtland Street, NE\\nAtlanta, Georgia 30365 RE\\nDear Mr. Vorsatz:\\nBrownfield Site Assessment Report Eakes Dry Cleaners,\\nDurham, Durham County, North Carolina industrial, and residential area in downtown Durham.  The site is located at North approximately 0.3 acres.   The site was a Dry Cleaning and Fur Storage business\\nfor many years until its closure in 1995, after the death of Mr. Eakes and the Carolina.  It consists of a 6,600 square foot brick and block building situated on Eakes Cleaners is located at 827 West Morgan Street in Durham, North This letter is being sent to you to convey the information that the North Carolina Superfund Section has obtained on a site named Eakes Dry Cleaners.\\n\\nThe site is located in a mixed commercial, light pankruptcy of his estate.\\n\\napproximately 0.3 acres.',\n",
       " '36° 00\\' 02.5\" and West 078° 54\\' 36.0\".\\n\\nOn October 14, 1996 Front Royal Environmental Services, Inc. submitted These contaminants are associated with the Boiler/Distillation room and outside the old sump area along the south wall of the ouilding.   The remaining contaminants, benzene, toluene, ethylbenzene, xylenes\\nBTEX), and naphthalene are associated with an underground heating oil tank The primary contaminants are tetrachloroethylene a Limited Soil and Groundwater Investigation Report to Mr. John A. Northen,\\nTrustee in Bankruptcy for the site.  This report revealed significant soil and and its degradation products; trichloroethylene, trans-1,2dichloroethene, ry cleaning process and are concentrated in two areas; outside the ocated at the northwest corner of the building.\\n\\n, I dichloroethene, and vinyl chloride.\\n\\ngroundwater contamination.\\n\\nouilding.\\n\\nPHONE 919-733-4996   FAX 919-715-3605 AN EQUAL OPPORTUNITY / AFFIRMATIVE ACTION EMPLOYER - 50% RECYCLED/10% POST-CONSUMER PAPER\\n27605',\n",
       " 'Table ',\n",
       " '\\n|                         | oil Analytical Results (mg/kg or ppm)   |                                                     |\\n|-------------------------|-----------------------------------------|-----------------------------------------------------|\\n| Date Collected ample ID | Depth(feet                              | nalytical Result                                    |\\n| ਰੇ/1 1/96 22\\\\-I          | 3.5                                     | 34 diese                                            |\\n| 9/1 1/96 SS\\\\-2          | 3.0                                     | 81.3 diesel                                         |\\n| 8/1 1/96 द्र\\\\-३          | 2.5                                     | BDL diesel 0.0124 trans DCA 0.0338 vinyl chlorid    |\\n| ਰ/11/96 द्र\\\\-४           | 3.0                                     | 0.0375 trans DCA 0.005 toluene 0.0705 vinyl chlorie |\\n| d/11/96 ટર\\\\-ર           | 3.0                                     | 0.00611 toluene 0.00506 PCE                         |\\n| d/11/96 દ્વ\\\\-୧           | 3.0                                     | BDL TPH BDL 8240                                    |\\n| ਰੇ/11/96 SS\\\\-7           | 3.0                                     | 0.174 PCE                                           |\\n| 9/27/96 ટડ\\\\-8           | 7.0                                     | 0.005 TCE                                           |\\n| 9/27/96 22\\\\-9           | 9.0                                     | 0.152 TCE 0.0383 PCI                                |\\n',\n",
       " 'trans DCA\\nPCE\\nTCE\\nII\\nrans-1,2 dichloroethen erchlorethylene\\nichloroethylene',\n",
       " '45CADIT\\n15\\n-11: 2 - 1\\n ..\"\\n0 BEST\\nFARTHING\\nOHOBXO\\n(11-JA\\n\\nBVA\\n\\n![2_image_0.png](2_image_0.png)\\n\\n\\n\\n![2_image_2.png](2_image_2.png)\\n\\n',\n",
       " '\\n\\n![2_image_1.png](2_image_1.png)\\n\\n',\n",
       " 'ીતા ત 1887 17 195 111255\\n\\n![2_image_3.png](2_image_3.png)\\n\\n\\n\\n![2_image_7.png](2_image_7.png)\\n\\n\\n篇 TE\\nANDER',\n",
       " '\\n\\n![2_image_18.png](2_image_18.png)\\n\\n\\n\\n\\n![2_image_6.png](2_image_6.png)\\n\\n\\n\\n![2_image_8.png](2_image_8.png)\\n\\n',\n",
       " 'と・Watt\\n\\n![2_image_5.png](2_image_5.png)\\n\\n\\nGREGSON\\nبا .....\\n\\n![2_image_4.png](2_image_4.png)\\n\\n\\nـــ\\nO G\\n15834818 0\\n\\n![2_image_9.png](2_image_9.png)\\n\\n\\n\\n![2_image_12.png](2_image_12.png)\\n\\n\\n10)\\n\\n![2_image_11.png](2_image_11.png)\\n\\n\\n\\n![2_image_14.png](2_image_14.png)\\n\\n\\n\\n![2_image_23.png](2_image_23.png)\\n\\n\\n11\\n\\n![2_image_10.png](2_image_10.png)\\n\\n\\n\\n![2_image_13.png](2_image_13.png)\\n\\n\\n\\n![2_image_15.png](2_image_15.png)\\n\\n\\n\\n![2_image_19.png](2_image_19.png)\\n\\n\\n\\n![2_image_21.png](2_image_21.png)\\n\\n\\n\\n![2_image_22.png](2_image_22.png)\\n\\n\\n15\\n\\n![2_image_24.png](2_image_24.png)\\n\\n\\nત ર\\n\\n![2_image_16.png](2_image_16.png)\\n\\n\\n\\n![2_image_17.png](2_image_17.png)\\n\\n\\n\\n![2_image_20.png](2_image_20.png)\\n\\n\\n125 RESERVE\\n师 Mi el sils\\n\\n![2_image_25.png](2_image_25.png)\\n\\n\\n\\n![2_image_26.png](2_image_26.png)\\n\\n\\nD\\n( US 7 - 7)\\nCAROLINA\\n2017 อัลการ ALABA\\nT\\nប្រទេក្រ 1-11\\nે નિર 2',\n",
       " '1 11- 11 1 T\\nन में\\n1 112 ﮨﮯ 171 1 - 2 A\\n11 - 1 - 1 - 1 -\\n- - - -\\n.\\n\\n1 11 e E\\n ﺍﻟﻤﺤﺘﻠﻪ ﮯ   ﺍ P\\nr পা\\n:\\n・',\n",
       " '\\n\\n![3_image_0.png](3_image_0.png)\\n\\n',\n",
       " '9 ਟੇਟ ટરદ',\n",
       " '\\n| CQ1\\\\-96\\\\-657.6 # IJJIUdd   | ANILURAS HISON GUJUNIO   |\\n|----------------------------|--------------------------|\\n| \"                          | ARE DRYCLEANERS          |\\n| THIOS INORA                | SAM  10 10 08815 08 METT |\\n',\n",
       " '\\n\\n![3_image_1.png](3_image_1.png)\\n\\n',\n",
       " 'ட்ட SCAL\\nGUR',\n",
       " '\\n|                    |        |         | roundwater Analytical Results on 9/27/96 (ppb)   |        |       |\\n|--------------------|--------|---------|--------------------------------------------------|--------|-------|\\n| Analyte            |        | NCAC 2L | MW\\\\-1                                            | MW\\\\-2  | MW\\\\-3 |\\n| РСЕ                | Li0    |         | 13.2                                             | 29,200 | ર્સ્ટ   |\\n| LCE                | 8 ट    |         | S8 L                                             | 5,830  | ୧୫୨   |\\n| , l dichloroethene | 0:0    |         | BDL                                              | 33.8   | 10.5  |\\n| trans DCA          | S TO O |         | BDL                                              | 601    | 71.2  |\\n| Vinyl Chloride     |        |         | BDL                                              | 4,000  | 615   |\\n| enzene             | 0 I    |         | BDL                                              | 49.3   | BDL   |\\n| thylbenzen         | 29.0   |         | BDL                                              | 38.5   | BDL   |\\n| Toluene            | 000.0  |         | BDL                                              | 54.9   | BDL   |\\n| Xylenes            | 530.0  |         | BDL                                              | 68.3   | BDL   |\\n| Japhthaler         | 21.0   |         | પર                                               | 33.8   | NS    |\\n',\n",
       " 'II\\ntrans DC.\\nPCE\\nTCE\\nThe monitoring wells installed by Front Royal were all screened in\\nt depths ranging from 7 to I2 feet.  the static groundwater levels were\\nfeet below land surface.\\n\\n  \\n\\nre  Surface pater datingge from the site in one cream becames person\\nmirdan seppm fimales beforantes cream beomies persoan\\nmirdan seppm fimales beforane stram becam becama m ns-1,2 dichloroether erchlorethyler\\nichloroethyler',\n",
       " \"buildings around the sife from the off-gassing of the contaminants from\\ngroundwater.   To address this possibility, a survey of construction of the\\nsurrounding buildings was Schools Program, at 400 N. Duke Street was the only building in the vicinity of \\nthe site that had a basement area.  All of the other surrounding building were\\nconstructed in The concentrations of the volatile organic compounds (VOC's) are very high in The groundwater in the area of the site is very shallow, 4 to 6 feet deep.\\n\\nexamine  the possibility that contaminants were migrating into basements and\\n. The combination of these situations led us to monitoring well \\\\#2 (MW-2)\\nAir sampling was performed by David Lilley, Industrial Hygienist for the and the Magnet School. These samples were collected using a modified NIOSH\\nSuperfund Section on March 6, 1997 at seven locations including a background 1007 Method and analyzed for tetrachloroethylene, trichloroethylene, and vinyl chloride.  The samples were collected by low flow personal sampling pumps,\\nthrough 150 mg. charcoal tubes equipped with a back-up section for a target duration of 8 hours, Then the contaminants were desorbed from the charcoal\",\n",
       " 'using carbon disulfide and analyzed on a gas chromatograph with a flame ionization detector.\\n\\nNone of the samples collected indicated the presents of any of the contaminants tested for, including BETX.  The sample num Due to the inability to locate any receptors using or threatened by the The sample numbers followed by a B\\ncontaminated groundwater, the groundwater pathway is not a pathway of concern.\\n\\nreceptors are threatened; therefore, the surface water pathway is not a pathway of No release to the surface water pathway has been documented and no significant on-site targets exist, consequently, the soil exposure pathway is not considered a pathway of concern. The outdoor air is not an area of concern and sampling has concern.  Contaminant levels found in the soils are very low, with the possible\\nexception of the petroleum products associated with the heating oil tank, and no demonstrated that the indoor air in surrounding buildings has not been contaminated.\\n\\nBecause of the above factors, the North Carolina Superfund Section',\n",
       " 'recommends that this site receives a status of No Further Remedial Action Planned under CERCLA/SARA (NFRAP).\\n\\nIf you have any questions, please contact me at (919) 733-2801.\\n\\nSincerely',\n",
       " '\\n\\n![5_image_0.png](5_image_0.png)\\n\\n',\n",
       " 'Environmental Engineer Special Projects Branch NC Superfund Section',\n",
       " '\\n## Hz\\n',\n",
       " '\\n## \\n',\n",
       " '(E) \\nELIGIBILITY',\n",
       " 'NORTH CAROLINA DEPARTMENT OF\\nENVIRONMENT AND NATURAL RESOURCES\\nDIVISION OF WASTE MANAGEMENT\\nDecember 15, 1998',\n",
       " '# File C.Opy\\n',\n",
       " 'Donnie Clark\\n\\n![1_image_0.png](1_image_0.png)\\n\\n\\nDurham City/County Inspection Program 101 City Hall Plaza Durham, NC 27701 Subject:\\nEakes Cleaners Brownfield Project Durham, Durham County Dear Mr. Clark:\\nWe have received a Brownfield Letter of Intent from Mr. Larry Jones of\\n\\n![1_image_1.png](1_image_1.png)\\n\\n\\nP.1.C. Enterprises, Inc. for the redevelopment of the former Eakes Cleaners property at 827 West Morgan Street in Durham, Durham County. During the review of this site, we determined a need for additional data, including the sampling of the air inside the building onsite. On December 14, 1998, Mr. Danny Roberts submitted this information to us. After a preliminary review of this information, we can safely say that occupancy of this building on a commercial basis will pose no health risk to the occupants.\\n\\nWe are continuing to review the data to determine what, if any, remediation will be required for the contaminated soils and groundwater.\\n\\nIf you have any questions, please call me at 733-2801, ext. 313.',\n",
       " 'Sincerely,\\n\\n![1_image_2.png](1_image_2.png)\\n\\n\\nHarry Zinn Special Remediation Branch DENR Division of Waste Mgmt.\\n\\nJack Butler CC:\\nBruce Nicholson Larry Jones 401 OBERLIN ROAD, SUITE 150, RALEIGH, NC 27605 PHONE 919-733-4996 FAX 918-715-3605',\n",
       " '\\n\\n![1_image_3.png](1_image_3.png)\\n\\n',\n",
       " \"North Carolina Department of ENVIRONMENT AND NATURAL RESOURCES\\nDivision of Waste Management March 11, 1998 Mr. Larry Jones\\n\\n![2_image_0.png](2_image_0.png)\\n\\n\\n3734 Angier Avenue Durham, NC\\nSubj:\\nAdditional Data Needs Brownfield Project for Eakes Cleaners Durham, Durham County Dear Mr. Jones:\\n\\n![2_image_1.png](2_image_1.png)\\n\\n\\nAfter reviewing the information available for the Eakes Cleaners located at 827 West Morgan Street in Durham, Durham County, the North Carolina Superfund Section has determined the following data needs for this site:\\nTwo additional soil borings around Monitoring Well \\\\#2. Samples to be collected for 2 foot intervals from 0' to 6' depth.\\n\\n1.\\n\\n![2_image_2.png](2_image_2.png)\\n\\n\\nResample existing monitoring wells using low flow sampling methodology to ensure a nonturbid sample.\\n\\n2.\\n\\nA liquid sample from the sewer line downstream from the tie-ins from the site.\\n\\n3.\\n\\n4.\\n\\nAn air sample from the  distillation/storage room area inside the building.\\n\\nAll samples collected will be analyzed for Volatile Organic Compounds\\n(VOC's).  The results of these samples will determine if additional work will be\",\n",
       " 'necessary.\\n\\nagreement.\\n\\nAny Underground Storage Tank (UST) concerns identified by the state UST program at the site will need to be addressed as part of the final Brownfield If you have any questions, you may contact me by telephone at (919)733-\\n\\n![2_image_3.png](2_image_3.png)\\n\\n\\n2801, ext 313, or by E-mail at zinnhj@wastenot.ehnr.state.nc.us.\\n\\nSincerely.\\n\\nHarry Zinn Special Remediation Branch Superfund Section Jack Butler Bruce Nicholson Grover Nicholson Rob Gelblum CC:\\n401 OBERLIN ROAD, SUITE 150, RALEIGH, NC 27605 PHONE 919-733-4996   FAX 919-715-3605 AN EQUAL OPPORTUNITY / AFFIRMATIVE ACTION EMPLOYER - 50% RECYCLED/10% POST-CONSUMER PAPER',\n",
       " 'NORTH CAROLINA DEPARTMENT OF\\n\\n![3_image_1.png](3_image_1.png)\\n\\n\\nENVIRONMENT AND NATURAL RESOURCES\\nRALEIGH REGIONAL OFFICE\\nDIVISION OF WATER QUALITY   RECEIVED\\nGROUNDWATER SECTION\\nMAR 11 1998 February 26, 1998 GOVERNOR\\n\\n![3_image_0.png](3_image_0.png)\\n\\n\\n\\n![3_image_2.png](3_image_2.png)\\n\\n\\nMemorandum SUPERFUND SECTION\\nTo:\\nBruce Nicholson. Division of Waste Management Through:\\nArthur Mouberry, Groundwater Section From:\\nJay Zimmerman, Groundwater Section 900 Subiect:\\n\\n![3_image_3.png](3_image_3.png)\\n\\n\\nEakes Cleaners, Inc. Brownfield Project 827 West Morgan Street Durham, Durham County The Groundwater Section has reviewed the Limited Soil and Groundwater Investigation report submitted by Front Royal Environmental Services for the Eakes Cleaners site. The report, dated October 14, 1996, indicates that both soil and groundwater contamination are present at the above referenced site. The contaminants are tetrachloroethylene and its various breakdown products along with petroleum products.   It is the understanding of the Groundwater Section that this report was forwarded to us to give us the chance to address the issue of the underground storage tank that is on site.  The 550 gallon UST contains heating oil and the borings that were advanced in the area of the tank indicate that there has been a release of petroleum product to the environment.  The Section recommends that this tank be closed  and that the area be assessed following our guidelines.',\n",
       " 'cc: dbt\\n\\n![3_image_4.png](3_image_4.png)\\n\\n\\n9800 BARRETT DRIVE, SUITE 101, RALEIGH, NORTH CAROLINA 27609 PHONE 919-571-4700 FAX 919-571-4718 AN EQUAL OPPORTUNITY / AFFIRMATIVE ACTION EMPLOYER - 50% RECYCLED/10% POST-CONSUMER PAPER',\n",
       " 'North Carolina Department of Environment and Natural Resources DIVISION OF WASTE MANAGEMENT\\nFebruary 11, 1998 Arthur Mouberry\\n\\n![4_image_0.png](4_image_0.png) Chief, Groundwater Section Division of Water Quality P.O. Box 29578 Raleigh, NC 27604-00578 Subject:\\nEakes Cleaners Brownfield Project Durham, Durham County Dear Mr. Mouberry:\\nWe have received a Brownfield Letter of Intent from Mr. Larry Jones of\\n\\n![4_image_1.png](4_image_1.png)\\n\\n\\nP.I.C. Enterprises Inc. for the redevelopment of the former Eakes Cleaners property at 827 West Morgan Street in Durham, Durham County. There is a potential underground storage tank issues at this property.\\n\\nAs discussed in our November 25, 1997 meeting, we are forwarding you the attached information on this site in a similar manner to the process already in place for NPL sites.\\n\\nAttached is a copy of \"Subsurface Investigation Report  Proposed Food Lion Shopping Center\" that Food Lion submitted along with a Brownfields Letter of Intent.  Because of the known past impacts on this property by Underground Storage Tanks (UST\\'s) located both on this property and on adjacent properties, we would like you to review this report.',\n",
       " 'We are proceeding with the Brownfield process in connection with this site, however, this does not preclude your involvement in all aspects of the petroleum contamination and the UST. Please advise us as to any specific issues for this site so they can be referenced in any Brownfield Agreement developed for the site.\\n\\n2. 2. 1. 1. 1. 1. 1. 1. 1.',\n",
       " 'Arthur Mouberry Page 2 February 11, 1998 and the comments of the same\\n.\\n\\nのお気になる。\\n\\nIf you have any question, please call me at 733-2801 ext 353.',\n",
       " '\\n\\n![5_image_0.png](5_image_0.png)\\n\\n',\n",
       " 'Head, Special Projects Branch DENR Division of Waste Mgmt.\\n\\n..\\n\\n:\\n· - -\\ncc:\\nJack Butler w/o enclosure Harry Zinn w/o enclosure Larry Jones w/o enclosure',\n",
       " 'and and the many of the same of the same North Carolina Department of\\n\\n![6_image_1.png](6_image_1.png)\\n\\n\\nEnvironment and Natural Resources Division of Waste Management February 11, 1998 Mr. Larry Jones\\n\\n![6_image_0.png](6_image_0.png) 3734 Angier Avenue Durham, NC\\nSubi:\\nLetter of Intent Response Brownfield Project for Eakes Cleaners Durham, Durham County Dear Mr. Jones:\\nWe have received your Letter of Intent to seek a brownfields agreement for Eakes Cleaners located at 827 West Morgan Street in Durham, Durham County. After reviewing the items you provided with respect to the requirements of the Brownfields Property Reuse Act of 1997 we have determined, based on the information you provided, that the site is eligible for continued evaluation for a brownfield agreement.\\n\\nThe next step is a detailed evaluation of all environmental and other data\\n\\n![6_image_2.png](6_image_2.png)\\n\\n\\nneeded for us to determine what, if any, work is necessary under a brownfield agreement. As you have already provided environmental data (Front Royal Environmental Project No. 2239-96-183) concerning the property we will now review that data and advise you on any additional information we may need.',\n",
       " 'As you are aware, if there are any Underground Storage Tank (UST)\\nconcerns at the site, any brownfield agreement developed on this site would reference the state UST program to address those concerns. A copy of the Front Royal Environmental report has been forwarded to Arthur Mouberry accordingly.\\n\\nIf you have any questions, you may contact me by telephone at (919)7332801, ext 313, or by E-mail at zinnhj@wastenot.ehnr.state.nc.us.\\n\\nCC:\\nJack Butler Bruce Nicholson Grover Nicholson Rob Gelblum Sincerely.\\n\\nHarry Zinn Special Remediation Branch Superfund Section',\n",
       " '1327 UNI',\n",
       " '\\n\\n![7_image_0.png](7_image_0.png)\\n\\n',\n",
       " 'SCALE\\n1,000\\' 2,000\\' 4,000 1\" = 2,000\\' SITE LOCATION MAP\\nEAKES DRYCLEANERS\\nDURHAM, NORTH CAROLINA\\nFRONT ROY\\nENVIRONMENTAL SERVICES, INC.\\n\\nPROJ.  \\\\# 2239-96-183|FIGU\\nUSGS NORTHWEST DURHAM, NC QUADRANGLE (1987) USGS SOUTHWEST DURHAM, NC QUADRANGLE (1981)\\n.',\n",
       " 'SITE ,\\nMORGAN',\n",
       " '\\n\\n![8_image_0.png](8_image_0.png)\\n\\n',\n",
       " '\\n|     |    |    |      |     |       |     |     |    | ﺴﺮ        |\\n|-----|----|----|------|-----|-------|-----|-----|----|-----------|\\n| i I |    |    |      |     |       |     |     |    | 1         |\\n| l   |    | 7  |      |     |       |     |     | 5  |           |\\n|     |    |    |      | రి   |       |     |     |    |           |\\n| .   |    |    |      |     |       |     |     |    | 4         |\\n|     |    |    |      |     |       |     |     |    | GREGSON নে |\\n|     |    |    | 1 OA | 1 1 |       | 1 2 | 1 3 |    | 2         |\\n|     | 9  |    | 1 O  |     |       |     |     |    |           |\\n|     |    |    |      |     |       |     |     |    | 1         |\\n|     |    |    |      | \\\\// | MAINI |     |     |    |           |\\n\\n| URHAM COUNTY TAX MAP   |                                                   |\\n|------------------------|---------------------------------------------------|\\n| AKES DRYCLEANERS       | IFRONT ROYAL I GURE 2 SCALE: 1\" = 50\\'             |\\n| URHAM, NORTH CAROLINA  | ALLE AND SERVICES INC. SCALL . FROJ. # 2239\\\\-96\\\\- |\\n',\n",
       " 'W.\\n\\n MAIN\\nPROJ. \\\\# 2239-96-183 ГВЕМУВГЕ\\nGREGSO \\nand the contraction of the comments of the com',\n",
       " 'BEDINNING at a stake in the inside of the sideralk on the south 53° 50° 50°\\neast 04.96 feet from a control corner at a point where the inside of the sidewalk on the southwest side of West Morgan Street intersects with the inside of the sidewalk on the east side of Albemarle Street\\n(formerly Jones Street), said stake, also, being the northwest corner of the Stephenson-Wilson, Inc. property as shown in Deed Book 210, at page 155, Durham County Registry; and running thenco south 37° 18′ 10″\\nwast 80.52 feet to a stake; thence south 37° 30′ 00″ west 70.45 feet to a stake at L. II. Wilson\\'s corner; thonce with the northeastern 11no of L. N. Wilson and Mary D. Howell north 53° 32\\' 00\" west 05.17 feet to\\na stake in the inside of the sidewalk in the castorn edge of Albemarle Street; thence with the inside of said sidewalk north 37° 27\\' 50\" cast 70.49 feet to a stake; thence continuing with the inside of the sidexalk\\nnorth 37° 25° 20\" east 79.90 fect to a stake in the insido of the sidewalk on the southwost Bide of West Morgan Street; thence with the inside of the sidewalk along the southwest sido of West Morgan Street south 53°\\n દેપ્\\n50\" cast 84.96 feet to a stake, the point or nlace of beginning, and being all of the property as shown on plat of INOFERTY OF ROBERT HINTON\\nAND LIDNA HINTO: as per plat and survey thereof by George C. Loro, Jr.,\\nJamary 9, 196h, and nou on fiIe 1n the off ice of the Register of Decre of Durham County in PIat Eook ',\n",
       " 'See Deed Book 105, at page 59h, Deed Book 16, at page $18, and Mill Dook 7, 3, page 190, Records of Durham County.\\n\\n--',\n",
       " '\\n| e 198, Records of Durham County.   |\\n|------------------------------------|\\n| . .                                |\\n',\n",
       " '\" ',\n",
       " '\\n\\n![10_image_0.png](10_image_0.png)\\n\\n\\n\\n',\n",
       " ' \\n \\n11 - 11 - 1\\n -\\n \\n\\n\\n.\\n\\n\\n\\n\\n\\n\\n\\n.\\n\\n \\n\\n\\nA manager of the company of the company of the company of the comments of the comments of the comments of the comments of the comments of the co',\n",
       " \"October 29, 1997\\n\\n![11_image_0.png](11_image_0.png)\\n\\n\\nTo Whom It May Concern:\\nWe are pleased to offer our support for the re-development of the Eakes Dry Cleaners Building in downtown Durham.\\n\\nOur goal and objective is to revitalize downtown.  Three of the areas are economic development, safety, and appearance.\\n\\nThe proposed re-development of this property meets all three.  The economic development speaks for itself in the jobs the business will create along with the increase tax base.\\n\\nThe building is presently an eye sore with all the safety concerns an abandoned building gives. The re-use will address both of these areas.\\n\\nThe building is well suited for the purpose Mr. Oates plans.  This area is the hub of downtown Durham's revitalization and this will only add to it.\\n\\nCordially,\\n\\n![11_image_1.png](11_image_1.png)\\n\\n\",\n",
       " 'William A. Kalkhof',\n",
       " 'President',\n",
       " 'October 14, 1997\\n\\n![12_image_0.png](12_image_0.png)\\n\\n',\n",
       " '\\n### To Whom It May Concern:\\n',\n",
       " 'We are writing to offer our support for the adaptive re-use of the Eakes Dry Cleaners facility near Brightleaf Square, a project which can produce jobs and taxbase expansion for our community. We appreciate the opportunity to submit this letter for Mr. Tim Oates, whom we understand is considering such an adaptive reuse project.  We have witnessed an impressive renaissance occur in the Brightleaf Square area, with real estate developers purchasing older, historic properties and converting them to retail, commercial and residential use.  We especially appreciate seeing our heritage preserved in this fashion, and we look forward to being of service if and when appropriate to continue in this vein to see other properties retenanted for adaptive re-use.\\n\\nSincerely,\\n\\n![12_image_1.png](12_image_1.png)\\n\\n',\n",
       " 'tt',\n",
       " 'Thomas J. White Interim President/CEO\\nTJW:ctb',\n",
       " '# Brownfields Letter Of Intent\\n',\n",
       " \"C. The Eakes Cleaners building is located at 827 West Morgan Street in Durham, North Carolina. It is a one story brick and block building of 6,600 square feet. The property also contains 15 parking spaces.  The building has been closed for about 1 ½ years, prior to that it was an active Dry Cleaning and Fur Storage business for many years.  The business closed down after the death of the owner and the bankruptcy of his estate/business.  The building was abandoned at that time and has remained unoccupied.\\n\\nThe suspected contamination has been provided by a report (see attachment A) from Front Royal Environmenta! Services, Inc.\\n\\nD. Larry Jones intends to redevelop the property to be a cigar friendly night club/bar. The Club will include a tobacconist store within the club.\\n\\nE. Larry Jones' business address is 3734 Angier Avenue, Durham, North Carolina. Telephone number (919) 596-3842.\\n\\nF. Timothy Oates' telephone number is (919) 419-1581 or Pager number (919) 420-9280.\\n\\nG. N/A\\nH. The Eakes Dry Cleaner building is now in a state of total disrepair with the roof collapsing.\\n\\nThe building is located in the area of restored Brightleaf Square in Downtown Durham.\",\n",
       " 'The redevelopment of this building will eliminate a dilapidated building in the area that Durham is trying to restore.\\n\\nThe reuse will add jobs to the Durham area and also increase property taxes.  We anticipate 10 construction jobs for a period of about 6 months during the development of the property and at least 5 permanent jobs once the Club is opened for business.\\n\\nThe completed club will contain a large meeting room and it is anticipated the local civic clubs and the Duke University community will avail itself to the club for meetings.\\n\\nl.\\n\\nLarry Jones is the owner of Piedmont Insulation which he founded in 1961.  He is a general contractor (Unlimited) with certification in asbestos abatement.  His company has completed many projects with one of the largest being a $900,000 job developing the underground steam system from the West to East campus of Duke University.  Larry Jones has a net worth in excess of 2 million dollars.\\n\\nJ. Larry Jones has and will always comply with all laws and agreements between himself and the State of North Carolina.',\n",
       " '\\n\\n![14_image_1.png](14_image_1.png)\\n\\n',\n",
       " 'Environmental Services, Inc.\\n\\n2200 Gateway Blvd. · Suite 205 · Morrisville. NC 27560\\n\\n![14_image_0.png](14_image_0.png)\\n\\n\\n(919) 469-9795 · Fax (919) 469-3557 October 14, 1996 John A. Northen, esq. Trustee in Bankruptcy Northen, Blue, Rooks, Thibaut, Anderson and Woods, L.L.P.\\n\\nPost Office Box 2208 Chapel Hill, North Carolina 27515-2208 Limited Soil and Ground Water Investigation Eakes Cleaners, Inc. 827 West Morgan Street Durham, Durham County, North Carolina Front Royal Project No. 2239-96-183 Re:\\nDear Mr. Northen:\\nFront Royal Environmental Services, Inc. (Front Royal) has completed a limited soil and ground water assessment on the above referenced property (Site Location Map - Figure 1).  Six soil borings were advanced in and around the former dry cleaning building (Site Map - Figure 3).\\n\\nThree of the soil borings were completed as Type II monitor wells to collect ground water samples and allow for future sampling access (Soil Boring/Monitor Well Location Map - Figure 4).  The soil and ground water samples were collected under EPA protocol and sent to an environmental laboratory for analysis. The laboratory analysis has revealed the following:',\n",
       " 'Petroleum impacted soil in the area surrounding the 550 gallon heating oil underground Both soil samples collected around the UST contained petroleum storage tank.\\n\\nconcentrations above the North Carolina Department of Environment, Health and Natural Resources - Division of Water Quality (NCDEH&NR-DWQ) allowable concentration of 40 parts per million for high boiling point fuels such as heating oil. The ground water that was intersected in the two borings advanced in this area is assumed to be impacted with petroleum compounds.\\n\\n●\\nElevated concentrations of tetrachloroethylene (Perc) in soil samples collected from adjacent to the drainline at the rear of the building, outside the buildings north wall adjacent to the drainage sump, and directly adjacent to the sump inside the building.',\n",
       " 'Ground water samples collected from monitor well MW-1 which was set in the soil boring located outside the buildings north wall, MW-2 which was set in the boring located in the rear of the building, and MW-3 which was set inside the building directly adjacent to the drainage sump contained elevated concentrations of tetrachloroethylene and related breakdown compounds. Tetrachloroethylene concentrations ranged from 13.2 parts per billion (ppb) in MW-1 to 29,200 ppb in MW-2.\\n\\nAn associated breakdown product of Tetrachloroethylene is vinyl chloride.The vinyl chloride concentration in MW-2 was 4000 ppb. This data indicates that the tetrachloroethylene contamination has occurred over a number of years through discharges into the drain system.\\n\\nThe site has a shallow surficial water table less than 5 feet below land surface.  As such, the amount of Perc impacted soil is relatively small. The majority of the impacted soil is located adjacent to the drainline that runs from the sump to the rear of the building.  The drainline is beneath a 6 inch thick concrete slab.  The concrete slab retards the release of contaminants to the ground water.',\n",
       " '\\n#### Background\\n',\n",
       " 'Tetrachloroethylene (Perc) is likely to enter the environment by fugitive air emissions and from dry cleaning and metal degreasing industries and by spills or accidental releases to air, soil, or water. If Perc is released to soil, it will be subject to evaporation into the atmosphere and to leaching to the ground water. Biodegradation may occur in ground water where acclimated populations of microorganisms exist.  There is evidence that slow biodegradation of Perc occurs under anaerobic conditions when the microorganisms have been acclimated, yielding trichloroethylene as the main byproduct.  Other metabolites of the degradation of Perc are cis- and trans-1,2-dichloroethylene, dichloromethane, chloroethene, and vinyl chloride. Perc will be expected to exhibit low to medium mobility in soil and therefore may leach slowly into ground water.',\n",
       " '\\n## Conclusions/Recommendations\\n',\n",
       " \"The 550 gallon heating oil UST along with all petroleum impacted soil should be removed from\\n'he ground according to NCDEH&NR-DWQ guidelines.  Activities will include pumping out and 1isposing of tank contents, removal of tank, excavation of any impacted soil, backfilling of excavation with clean soil, and repaving of surface.  A tank closure report detailing the excavation orocedure will need to be issued to the NCDEH&NR-DWQ.\",\n",
       " '\\n#### Estimated Cost: $4,000.00\\n',\n",
       " 'Since contaminated ground water has been discovered under and outside the building, the full',\n",
       " 'Ltd. Soil & Ground ater Investigation Eakes Cleaners, Inc.\\n\\nPage 3 extent of the impact should be delineated by installing additional monitor wells. At least three additional wells should be installed on the northeast and southeast portions of the property. A deep Type III monitor well should be installed in the area of highest shallow ground water contamination to determine if the contamination has migrated downward to bedrock. If the contamination is found to be traveling offsite, the decision to install additional wells and notify adjacent landowners will need to be made. After the three wells are installed, sampled, and analyzed a Phase II report will be prepared with recommendations to perform additional work or cease the investigation.',\n",
       " '\\n#### Estimated Cost: $7,500.00\\n',\n",
       " 'If the ground water contamination is extensive, remediation costs have been estimated to be on the order of $150,000-$200,000.00. If the contamination is localized, current remediation technologies could be implemented to cost effectively remove a majority of the dissolved tetrachloroethylene and related breakdown products.\\n\\nThe work outlined above is in anticipation of typical regulatory requirements once the North Carolina Department of Environment, Health and Natural Resources - Division of Water Quality is notified of the existing ground water contamination. Notification should be initiated by the property owner or his representative within 24 hours of receiving this report.\\n\\nPlease call this office if you have any questions or comments.\\n\\nSincerelv.\\n\\nFRONT ROYAL ENVIRONMENTAL SERVICES, INC.\\n\\nDavid E. Meyer Senior Soil Scientist',\n",
       " '\\n\\n![16_image_0.png](16_image_0.png)\\n\\n',\n",
       " 'Vice President R96-212.DEM:EGA',\n",
       " 'NORTH CAROLINA DEPARTMENT OF ENVIRONMENT AND NATURAL RESOURCES_\\n1 - 1 - 1 - 1 - 1 -',\n",
       " '\\n| P.I.C. ENTERPRISES INC          |\\n|---------------------------------|\\n| UNDER THE AUTHORITY OF          |\\n| NORTH CAROLINA GENERAL          |\\n| STATUTES 130A\\\\-310.30, et. seq. |\\n\\n| IN THE MATTER OF:      |\\n|------------------------|\\n| P.I.C. ENTERPRISES INC |\\n',\n",
       " 'FEE : 0 1998 SUPERFUND SECTION\\nAFFIDAVIT\\nRE: RESPONSIBILIT\\nAND COMPLIANCE\\nRE: RESPONSIBILITY\\n\\nLarry Jones being duly sworn, hereby deposes and says:\\n1. I am President of P.I.C. Enterprises Inc.\\n\\n2. P.I.C. Enterprises Inc. is applying for a Brownsfields Agreement with the North Carolina Department of Environment and Natural Resources, pursuant to N.C.G.S. 130A,\\nArticle 9, Part 5 (Brownsfields Act), in relation to the following 1 parcel in Durham, Durham County, North Carolina: 827 West Morgan Street.\\n\\n3. I hereby certify, under the pains and penalties of perjury and of the Brownfields Act, that P.I.C. Enterprises, Inc., and any parent, subsidiary or other affiliate meets the eligibility requirement of N.C.G.S. 130A-310.31(b)(10), in that it did not cause or contribute to the contamination at the parcel cited in the preceding paragraph.\\n\\n4. I hereby certify, under the pains and penalties of perjury and of the Brownfields Act, that P.I.C. Enterprises Inc. meets the eligibility requirements of N.C.G.S. 130A-\\n310.32(a)(1) in that it and any parent, subsidiary or other affiliate have substantially complied with:',\n",
       " 'a. the terms of any brownfields or similar agreement to which it or any parent, subsidiary or other affiliate has been a party;',\n",
       " 'Affidavit of Larry Jones Page 2 b. the requirements applicable to any remediation in which it or any parent, subsidiary or other affiliate has previously engaged; c. federal and state laws, regulations and rules for the protection of the environment.\\n\\nAffiant further saith not.',\n",
       " '\\n\\n![18_image_0.png](18_image_0.png)\\n\\n',\n",
       " 'Sworn to and subscribed before me this & + day of February, 1998.',\n",
       " '\\n\\n![18_image_1.png](18_image_1.png)\\n\\n\\n\\n\\n![18_image_2.png](18_image_2.png)\\n\\n',\n",
       " '(SEAL)\\n\\n![18_image_3.png](18_image_3.png)\\n\\n\\nDocument 20209']"
      ]
     },
     "execution_count": 16,
     "metadata": {},
     "output_type": "execute_result"
    }
   ],
   "source": [
    "df.text.to_list()"
   ]
  },
  {
   "cell_type": "code",
   "execution_count": 15,
   "metadata": {},
   "outputs": [
    {
     "data": {
      "text/plain": [
       "['[60.02847650688182, 78.0, 667.3165638348363, 620.0]',\n",
       " '[664.3151400094922, 382.0, 1027.4874228761273, 117.0]',\n",
       " '[86.04081632653062, 341.0, 107.05078310393925, 377.0]',\n",
       " '[213.89848197343457, 230.0, 1143.4573055028463, 1198.0]',\n",
       " '[569.2700522069293, 467.0, 625.296630280019, 377.0]',\n",
       " '[51.0, 14.0, 928.0, 163.0]',\n",
       " '[460.0, 164.0, 495.0, 180.0]',\n",
       " '[310.0, 218.0, 959.0, 322.0]',\n",
       " '[243.0, 410.0, 329.0, 463.0]',\n",
       " '[112.0, 334.0, 1029.0, 516.0]',\n",
       " '[23.0, 1583.0, 1042.0, 1534.0]',\n",
       " '[642.0, 442.0, 681.0, 575.0]',\n",
       " '[710.0, 632.0, 824.0, 814.0]',\n",
       " '[80.0, 32.0, 1262.0, 298.0]',\n",
       " '[295.0, 1114.0, 755.0, 1365.0]',\n",
       " '[909.0, 102.0, 990.0, 97.0]',\n",
       " '[246.0, 242.0, 940.0, 1174.0]',\n",
       " '[470.0, 419.0, 834.0, 372.0]',\n",
       " '[94.0, 108.0, 399.0, 622.0]',\n",
       " '[398.0, 153.0, 703.0, 578.0]',\n",
       " '[702.0, 151.0, 799.0, 294.0]',\n",
       " '[818.0, 221.0, 846.0, 294.0]',\n",
       " '[847.0, 137.0, 895.0, 294.0]',\n",
       " '[876.0, 606.0, 891.0, 627.0]',\n",
       " '[876.0, 606.0, 891.0, 627.0]']"
      ]
     },
     "execution_count": 15,
     "metadata": {},
     "output_type": "execute_result"
    }
   ],
   "source": [
    "df[df.id.str.contains(\"01005_Eakes_Drycleaners_BF_Site_Assmt\")].bbox.tolist()"
   ]
  },
  {
   "cell_type": "code",
   "execution_count": 17,
   "metadata": {},
   "outputs": [
    {
     "data": {
      "text/html": [
       "<div>\n",
       "<style scoped>\n",
       "    .dataframe tbody tr th:only-of-type {\n",
       "        vertical-align: middle;\n",
       "    }\n",
       "\n",
       "    .dataframe tbody tr th {\n",
       "        vertical-align: top;\n",
       "    }\n",
       "\n",
       "    .dataframe thead th {\n",
       "        text-align: right;\n",
       "    }\n",
       "</style>\n",
       "<table border=\"1\" class=\"dataframe\">\n",
       "  <thead>\n",
       "    <tr style=\"text-align: right;\">\n",
       "      <th></th>\n",
       "      <th>Unnamed: 0</th>\n",
       "      <th>pnum</th>\n",
       "      <th>rotation</th>\n",
       "      <th>text_lines</th>\n",
       "      <th>layout</th>\n",
       "      <th>order</th>\n",
       "      <th>ocr_method</th>\n",
       "      <th>char_blocks</th>\n",
       "      <th>images</th>\n",
       "    </tr>\n",
       "  </thead>\n",
       "  <tbody>\n",
       "    <tr>\n",
       "      <th>0</th>\n",
       "      <td>0</td>\n",
       "      <td>0</td>\n",
       "      <td>0</td>\n",
       "      <td>bboxes=[PolygonBox(polygon=[[273, 55], [525, 5...</td>\n",
       "      <td>bboxes=[LayoutBox(polygon=[[691, 991], [761, 9...</td>\n",
       "      <td>bboxes=[OrderBox(bbox=[691.0, 991.0, 761.0, 10...</td>\n",
       "      <td>NaN</td>\n",
       "      <td>[{'lines': [{'spans': [{'font': {'size': 9.0, ...</td>\n",
       "      <td>[]</td>\n",
       "    </tr>\n",
       "    <tr>\n",
       "      <th>1</th>\n",
       "      <td>1</td>\n",
       "      <td>1</td>\n",
       "      <td>0</td>\n",
       "      <td>bboxes=[PolygonBox(polygon=[[114, 53], [221, 5...</td>\n",
       "      <td>bboxes=[LayoutBox(polygon=[[688, 990], [762, 9...</td>\n",
       "      <td>bboxes=[OrderBox(bbox=[688.0, 990.0, 762.0, 10...</td>\n",
       "      <td>NaN</td>\n",
       "      <td>[{'lines': [{'spans': [{'font': {'size': 5.0, ...</td>\n",
       "      <td>[]</td>\n",
       "    </tr>\n",
       "  </tbody>\n",
       "</table>\n",
       "</div>"
      ],
      "text/plain": [
       "   Unnamed: 0  pnum  rotation  \\\n",
       "0           0     0         0   \n",
       "1           1     1         0   \n",
       "\n",
       "                                          text_lines  \\\n",
       "0  bboxes=[PolygonBox(polygon=[[273, 55], [525, 5...   \n",
       "1  bboxes=[PolygonBox(polygon=[[114, 53], [221, 5...   \n",
       "\n",
       "                                              layout  \\\n",
       "0  bboxes=[LayoutBox(polygon=[[691, 991], [761, 9...   \n",
       "1  bboxes=[LayoutBox(polygon=[[688, 990], [762, 9...   \n",
       "\n",
       "                                               order  ocr_method  \\\n",
       "0  bboxes=[OrderBox(bbox=[691.0, 991.0, 761.0, 10...         NaN   \n",
       "1  bboxes=[OrderBox(bbox=[688.0, 990.0, 762.0, 10...         NaN   \n",
       "\n",
       "                                         char_blocks images  \n",
       "0  [{'lines': [{'spans': [{'font': {'size': 9.0, ...     []  \n",
       "1  [{'lines': [{'spans': [{'font': {'size': 5.0, ...     []  "
      ]
     },
     "execution_count": 17,
     "metadata": {},
     "output_type": "execute_result"
    }
   ],
   "source": [
    "page_df = pd.read_csv(\"/home/jenny/Downloads/Archive 2/scm_metals/NCS000050_Inspection_Report_20090917/NCS000050_Inspection_Report_20090917.pdf_pages.csv\")\n",
    "page_df.head(2)"
   ]
  },
  {
   "cell_type": "code",
   "execution_count": 6,
   "metadata": {},
   "outputs": [
    {
     "data": {
      "text/plain": [
       "type\n",
       "Text              1576\n",
       "Section-header     513\n",
       "Figure             270\n",
       "Table              269\n",
       "Title              139\n",
       "Formula             86\n",
       "List-item           48\n",
       "Caption             30\n",
       "Code                29\n",
       "Page-header         13\n",
       "Page-footer          4\n",
       "Footnote             3\n",
       "Name: count, dtype: int64"
      ]
     },
     "execution_count": 6,
     "metadata": {},
     "output_type": "execute_result"
    }
   ],
   "source": [
    "df.type.value_counts()"
   ]
  },
  {
   "cell_type": "code",
   "execution_count": null,
   "metadata": {},
   "outputs": [],
   "source": [
    "df[(df.type)]"
   ]
  }
 ],
 "metadata": {
  "kernelspec": {
   "display_name": "Python 3",
   "language": "python",
   "name": "python3"
  },
  "language_info": {
   "codemirror_mode": {
    "name": "ipython",
    "version": 3
   },
   "file_extension": ".py",
   "mimetype": "text/x-python",
   "name": "python",
   "nbconvert_exporter": "python",
   "pygments_lexer": "ipython3",
   "version": "3.10.14"
  }
 },
 "nbformat": 4,
 "nbformat_minor": 2
}
